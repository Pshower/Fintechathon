{
 "cells": [
  {
   "cell_type": "markdown",
   "id": "43385937",
   "metadata": {},
   "source": [
    "# 2 Model Train\n",
    "- 使用CV方法做训练"
   ]
  },
  {
   "cell_type": "code",
   "execution_count": 14,
   "id": "aa3d5a3a",
   "metadata": {},
   "outputs": [],
   "source": [
    "import json\n",
    "import numpy as np\n",
    "from sklearn.model_selection import train_test_split\n",
    "import tensorflow.keras as keras\n",
    "import matplotlib.pyplot as plt\n",
    "from tensorflow.keras.models import Model\n",
    "from tensorflow.keras.layers import Input, LSTM, Dense, TimeDistributed, Embedding, Bidirectional, Concatenate, Attention\n",
    "from tensorflow.keras.callbacks import ModelCheckpoint"
   ]
  },
  {
   "cell_type": "code",
   "execution_count": 15,
   "id": "d4175412",
   "metadata": {},
   "outputs": [],
   "source": [
    "DATA_PATH = \"data_add_train.json\"\n",
    "def load_data(data_path):\n",
    "    \"\"\"Loads training dataset from json file\n",
    "    \n",
    "        :param data_path (str): Path to json file containing data\n",
    "        :return X (ndarray): Inputs\n",
    "        :return y (ndarray): Targets\n",
    "    \n",
    "    \"\"\"\n",
    "    with open(data_path, \"r\") as fp:\n",
    "        data = json.load(fp)\n",
    "        \n",
    "    X = np.array(data[\"mfcc\"])\n",
    "    y = np.array(data[\"labels\"])\n",
    "    return X, y\n",
    "\n",
    "def prepare_datasets(test_size, validation_size):\n",
    "    \n",
    "    # load data\n",
    "    X, y = load_data(DATA_PATH)\n",
    "    \n",
    "    # create train/test split\n",
    "    X_train, X_test, y_train, y_test = train_test_split(X, y, test_size = test_size)\n",
    "    \n",
    "    # create train/validation split\n",
    "    X_train, X_validation, y_train, y_validation = train_test_split(X_train, y_train, test_size = validation_size)\n",
    "    \n",
    "    return (X_train, X_validation, X_test, y_train, y_validation, y_test)\n",
    "\n",
    "    \n",
    "def plot_history(history):\n",
    "    \n",
    "    fig, axs = plt.subplots(2)\n",
    "    plt.figure(dpi=450)\n",
    "    # create accuracy subplot\n",
    "    axs[0].plot(history.history[\"accuracy\"], label = \"train accuracy\")\n",
    "    axs[0].plot(history.history[\"val_accuracy\"], label = \"test accuracy\")\n",
    "    axs[0].set_ylabel(\"Accuracy\")\n",
    "    axs[0].legend(loc = \"lower right\")\n",
    "    axs[0].set_title(\"Accuracy eval\")\n",
    "    \n",
    "    # create accuracy subplot\n",
    "    axs[1].plot(history.history[\"loss\"], label = \"train error\")\n",
    "    axs[1].plot(history.history[\"val_loss\"], label = \"test error\")\n",
    "    axs[1].set_ylabel(\"Error\")\n",
    "    axs[1].set_xlabel(\"Epoch\")\n",
    "    axs[1].legend(loc = \"upper right\")\n",
    "    axs[1].set_title(\"Error eval\")\n",
    "    \n",
    "    plt.show()\n",
    "    \n",
    "def predict(model, X, y):\n",
    "    \n",
    "    X = X[np.newaxis, ...]\n",
    "    \n",
    "    # prediction = [ [0.1, 0.2, ...]]\n",
    "    prediction = model.predict(X) # X -> (1, 130, 13, 1)\n",
    "    \n",
    "    # extract index with max value\n",
    "    predicted_index = np.argmax(prediction, axis = 1) #[4]\n",
    "    print(\"Expected index: {}, Predicted index: {}\".format(y,  predicted_index))"
   ]
  },
  {
   "cell_type": "code",
   "execution_count": 16,
   "id": "30428b40",
   "metadata": {},
   "outputs": [],
   "source": [
    "import tensorflow as tf\n",
    "from tensorflow.keras import layers\n",
    "\n",
    "# Transformer块\n",
    "class TransformerBlock(layers.Layer):\n",
    "    def __init__(self, embed_dim, num_heads, ff_dim, rate=0.1):\n",
    "        super(TransformerBlock, self).__init__()\n",
    "        self.att = layers.MultiHeadAttention(num_heads=num_heads, key_dim=embed_dim)\n",
    "        self.ffn = keras.Sequential(\n",
    "            [layers.Dense(ff_dim, activation=\"relu\"), layers.Dense(embed_dim),]\n",
    "        )\n",
    "        self.layernorm1 = layers.LayerNormalization(epsilon=1e-6)\n",
    "        self.layernorm2 = layers.LayerNormalization(epsilon=1e-6)\n",
    "        self.dropout1 = layers.Dropout(rate)\n",
    "        self.dropout2 = layers.Dropout(rate)\n",
    "\n",
    "    def call(self, inputs, training):\n",
    "        attn_output = self.att(inputs, inputs)\n",
    "        attn_output = self.dropout1(attn_output, training=training)\n",
    "        out1 = self.layernorm1(inputs + attn_output)\n",
    "        ffn_output = self.ffn(out1)\n",
    "        ffn_output = self.dropout2(ffn_output, training=training)\n",
    "        return self.layernorm2(out1 + ffn_output)\n",
    "\n",
    "# 构建模型\n",
    "class TransformerModel(tf.keras.Model):\n",
    "    def __init__(self, embed_dim, num_heads, ff_dim, num_classes, dropout_rate):\n",
    "        super(TransformerModel, self).__init__()\n",
    "        self.input_projection = layers.Dense(embed_dim)  # 使用全连接层来调整输入维度\n",
    "        self.transformer_blocks = [TransformerBlock(embed_dim, num_heads, ff_dim, dropout_rate) \n",
    "                                   for _ in range(2)]\n",
    "        self.global_average = layers.GlobalAveragePooling1D()\n",
    "        self.dropout = layers.Dropout(dropout_rate)\n",
    "        self.out = layers.Dense(num_classes, activation=\"softmax\")\n",
    "\n",
    "    def call(self, inputs, training):\n",
    "        x = self.input_projection(inputs)  # 调整输入维度\n",
    "        for transformer_block in self.transformer_blocks:\n",
    "            x = transformer_block(x, training)\n",
    "        x = self.global_average(x)  # 平均池化\n",
    "        x = self.dropout(x, training)\n",
    "        return self.out(x)\n",
    "\n",
    "# # 实例化模型\n",
    "# model = TransformerModel(embed_dim, num_heads, ff_dim, num_classes, dropout_rate)\n",
    "\n",
    "# # 编译模型\n",
    "# model.compile(optimizer=\"adam\", loss=\"categorical_crossentropy\", metrics=[\"accuracy\"])\n",
    "\n",
    "# # 打印模型结构\n",
    "# model.build(input_shape=(None, 130, 13))\n",
    "# model.summary()\n"
   ]
  },
  {
   "cell_type": "code",
   "execution_count": 17,
   "id": "95a27755",
   "metadata": {},
   "outputs": [],
   "source": [
    "def build_model():\n",
    "    \"\"\"\n",
    "    Generates RNN-LSTM model\n",
    "    \n",
    "    :param input_shape (tuple): Shape of input set\n",
    "    :return model: RNN-LSTM model\n",
    "    \"\"\"\n",
    "    # 参数设置\n",
    "    embed_dim = 64  # 嵌入维度\n",
    "    num_heads = 4    # 多头注意力的头数\n",
    "    ff_dim = 256     # 前馈神经网络的维度\n",
    "    num_classes = 2 # 分类类别数，根据实际数据集调整\n",
    "    dropout_rate = 0 # Dropout比率\n",
    "    # 实例化模型\n",
    "    model = TransformerModel(embed_dim, num_heads, ff_dim, num_classes, dropout_rate)\n",
    "\n",
    "    return model"
   ]
  },
  {
   "cell_type": "code",
   "execution_count": 10,
   "id": "b93697f2",
   "metadata": {
    "scrolled": false
   },
   "outputs": [
    {
     "name": "stdout",
     "output_type": "stream",
     "text": [
      "(44, 13)\n",
      "Model: \"transformer_model_1\"\n",
      "_________________________________________________________________\n",
      " Layer (type)                Output Shape              Param #   \n",
      "=================================================================\n",
      " dense_6 (Dense)             multiple                  896       \n",
      "                                                                 \n",
      " transformer_block_2 (Transf  multiple                 99712     \n",
      " ormerBlock)                                                     \n",
      "                                                                 \n",
      " transformer_block_3 (Transf  multiple                 99712     \n",
      " ormerBlock)                                                     \n",
      "                                                                 \n",
      " global_average_pooling1d_1   multiple                 0         \n",
      " (GlobalAveragePooling1D)                                        \n",
      "                                                                 \n",
      " dropout_9 (Dropout)         multiple                  0         \n",
      "                                                                 \n",
      " dense_11 (Dense)            multiple                  130       \n",
      "                                                                 \n",
      "=================================================================\n",
      "Total params: 200,450\n",
      "Trainable params: 200,450\n",
      "Non-trainable params: 0\n",
      "_________________________________________________________________\n",
      "Epoch 1/10\n",
      "6305/6305 [==============================] - 50s 8ms/step - loss: 0.1520 - accuracy: 0.9421 - val_loss: 0.0971 - val_accuracy: 0.9658\n",
      "Epoch 2/10\n",
      "6305/6305 [==============================] - 51s 8ms/step - loss: 0.0881 - accuracy: 0.9683 - val_loss: 0.0841 - val_accuracy: 0.9715\n",
      "Epoch 3/10\n",
      "6305/6305 [==============================] - 81s 13ms/step - loss: 0.0694 - accuracy: 0.9749 - val_loss: 0.0625 - val_accuracy: 0.9755\n",
      "Epoch 4/10\n",
      "6305/6305 [==============================] - 96s 15ms/step - loss: 0.0579 - accuracy: 0.9794 - val_loss: 0.0562 - val_accuracy: 0.9794\n",
      "Epoch 5/10\n",
      "6305/6305 [==============================] - 95s 15ms/step - loss: 0.0511 - accuracy: 0.9817 - val_loss: 0.0506 - val_accuracy: 0.9803\n",
      "Epoch 6/10\n",
      "6305/6305 [==============================] - 95s 15ms/step - loss: 0.0467 - accuracy: 0.9834 - val_loss: 0.0511 - val_accuracy: 0.9803\n",
      "Epoch 7/10\n",
      "6305/6305 [==============================] - 94s 15ms/step - loss: 0.0413 - accuracy: 0.9851 - val_loss: 0.0502 - val_accuracy: 0.9817\n",
      "Epoch 8/10\n",
      "6305/6305 [==============================] - 97s 15ms/step - loss: 0.0386 - accuracy: 0.9861 - val_loss: 0.0388 - val_accuracy: 0.9862\n",
      "Epoch 9/10\n",
      "6305/6305 [==============================] - 95s 15ms/step - loss: 0.0343 - accuracy: 0.9879 - val_loss: 0.0375 - val_accuracy: 0.9856\n",
      "Epoch 10/10\n",
      "6305/6305 [==============================] - 97s 15ms/step - loss: 0.0323 - accuracy: 0.9885 - val_loss: 0.0330 - val_accuracy: 0.9879\n",
      "1660/1660 [==============================] - 9s 5ms/step - loss: 0.0355 - accuracy: 0.9872\n",
      "Accuracy on test set is: 0.9872480630874634\n",
      "1/1 [==============================] - 0s 210ms/step\n",
      "Expected index: 0, Predicted index: [0]\n"
     ]
    },
    {
     "data": {
      "image/png": "[encoded data removed]",
      "text/plain": [
       "<Figure size 640x480 with 2 Axes>"
      ]
     },
     "metadata": {},
     "output_type": "display_data"
    },
    {
     "data": {
      "text/plain": [
       "<Figure size 2880x2160 with 0 Axes>"
      ]
     },
     "metadata": {},
     "output_type": "display_data"
    }
   ],
   "source": [
    "if __name__ == \"__main__\":\n",
    "    \n",
    "    # create train, validation and test sets\n",
    "    X_train, X_validation, X_test, y_train, y_validation, y_test = prepare_datasets(0.2, 0.05)\n",
    "    model = build_model()\n",
    "    \n",
    "    # compile the network\n",
    "    optimizer = keras.optimizers.Adam(learning_rate = 0.0001)\n",
    "    model.compile(optimizer = optimizer, loss = \"sparse_categorical_crossentropy\", metrics = ['accuracy'])\n",
    "    model.build(input_shape=(None, 44, 13))\n",
    "    model.summary()\n",
    "    \n",
    "\n",
    "    history = model.fit(X_train, y_train, validation_data = (X_validation, y_validation), batch_size = 32, epochs = 10)\n",
    "    \n",
    "    test_error, test_accuracy = model.evaluate(X_test, y_test, verbose = 1)\n",
    "    print(\"Accuracy on test set is: {}\".format(test_accuracy))\n",
    "    \n",
    "    # make prediction on a sample\n",
    "    X = X_test[0]\n",
    "    y = y_test[0]\n",
    "\n",
    "    predict(model, X, y)\n",
    "    \n",
    "    # plot accuracy and error over the epochs\n",
    "    plot_history(history)"
   ]
  },
  {
   "cell_type": "code",
   "execution_count": 11,
   "id": "b44d7098",
   "metadata": {},
   "outputs": [],
   "source": [
    "model.save_weights('02_model/Transformer-mini.h5')"
   ]
  },
  {
   "cell_type": "code",
   "execution_count": 19,
   "id": "7ef0479c",
   "metadata": {},
   "outputs": [],
   "source": [
    "model = build_model()\n",
    "model.build(input_shape=(None, 44, 13))\n",
    "model.load_weights('02_model/Transformer-mini.h5')"
   ]
  },
  {
   "cell_type": "code",
   "execution_count": 12,
   "id": "6397368f",
   "metadata": {},
   "outputs": [
    {
     "name": "stdout",
     "output_type": "stream",
     "text": [
      "1660/1660 [==============================] - 8s 5ms/step\n",
      "[[43613   246]\n",
      " [  431  8800]]\n",
      "              precision    recall  f1-score   support\n",
      "\n",
      "           0       0.99      0.99      0.99     43859\n",
      "           1       0.97      0.95      0.96      9231\n",
      "\n",
      "    accuracy                           0.99     53090\n",
      "   macro avg       0.98      0.97      0.98     53090\n",
      "weighted avg       0.99      0.99      0.99     53090\n",
      "\n"
     ]
    }
   ],
   "source": [
    "X_test_pre = model.predict(X_test)\n",
    "y_pre = np.argmax(X_test_pre, axis = 1)\n",
    "\n",
    "import sklearn.metrics as sm\n",
    "matrixes = sm.confusion_matrix(y_test, y_pre)\n",
    "print(matrixes)\n",
    "report = sm.classification_report(y_test, y_pre)\n",
    "print(report)"
   ]
  },
  {
   "cell_type": "code",
   "execution_count": 13,
   "id": "b20a04a1",
   "metadata": {
    "scrolled": true
   },
   "outputs": [
    {
     "name": "stdout",
     "output_type": "stream",
     "text": [
      "8296/8296 [==============================] - 41s 5ms/step\n",
      "[[218429    907]\n",
      " [  1627  44487]]\n",
      "              precision    recall  f1-score   support\n",
      "\n",
      "           0       0.99      1.00      0.99    219336\n",
      "           1       0.98      0.96      0.97     46114\n",
      "\n",
      "    accuracy                           0.99    265450\n",
      "   macro avg       0.99      0.98      0.98    265450\n",
      "weighted avg       0.99      0.99      0.99    265450\n",
      "\n"
     ]
    }
   ],
   "source": [
    "X_dev, y_dev = load_data(\"data_add_test.json\")\n",
    "y_dev_pre = np.argmax(model.predict(X_dev), axis = 1)\n",
    "matrixes = sm.confusion_matrix(y_dev, y_dev_pre)\n",
    "print(matrixes)\n",
    "report = sm.classification_report(y_dev, y_dev_pre)\n",
    "print(report)"
   ]
  },
  {
   "cell_type": "code",
   "execution_count": null,
   "id": "cf0dda7c",
   "metadata": {},
   "outputs": [],
   "source": []
  }
 ],
 "metadata": {
  "kernelspec": {
   "display_name": "Python 3 (ipykernel)",
   "language": "python",
   "name": "python3"
  },
  "language_info": {
   "codemirror_mode": {
    "name": "ipython",
    "version": 3
   },
   "file_extension": ".py",
   "mimetype": "text/x-python",
   "name": "python",
   "nbconvert_exporter": "python",
   "pygments_lexer": "ipython3",
   "version": "3.10.0"
  }
 },
 "nbformat": 4,
 "nbformat_minor": 5
}
