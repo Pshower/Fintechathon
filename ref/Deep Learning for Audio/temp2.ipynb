{
 "cells": [
  {
   "cell_type": "code",
   "execution_count": 1,
   "id": "b1cc7172",
   "metadata": {},
   "outputs": [],
   "source": [
    "import os\n",
    "\n",
    "import shutil\n",
    "\n",
    "DATASET_PATH = \"res/Data/genres_original\"\n",
    "TARGET_PATH = \"res/Data/genres_reduced\"\n",
    "\n",
    "def move_file(dataset_path, target_path):\n",
    "    for i, (dirpath, dirnames, filenames) in enumerate(os.walk(dataset_path)):\n",
    "#         print(\"{} {}\".format(i, filenames))\n",
    "        if(len(filenames) != 0):\n",
    "            print(\"copying: {} -> {}\".format(dirpath+'/'+filenames[0], target_path+'/'+dirpath.split('/')[-1]+'/'+filenames[0]))\n",
    "            os.makedirs(target_path+'/'+dirpath.split('/')[-1])\n",
    "            shutil.copy(dirpath+'/'+filenames[0], target_path+'/'+dirpath.split('/')[-1]+'/'+filenames[0])\n",
    "            "
   ]
  },
  {
   "cell_type": "code",
   "execution_count": 2,
   "id": "dfad3291",
   "metadata": {},
   "outputs": [
    {
     "name": "stdout",
     "output_type": "stream",
     "text": [
      "copying: res/Data/genres_original/classical/classical.00043.wav -> res/Data/genres_reduced/classical/classical.00043.wav\n",
      "copying: res/Data/genres_original/disco/disco.00007.wav -> res/Data/genres_reduced/disco/disco.00007.wav\n",
      "copying: res/Data/genres_original/metal/metal.00002.wav -> res/Data/genres_reduced/metal/metal.00002.wav\n",
      "copying: res/Data/genres_original/hiphop/hiphop.00038.wav -> res/Data/genres_reduced/hiphop/hiphop.00038.wav\n",
      "copying: res/Data/genres_original/pop/pop.00033.wav -> res/Data/genres_reduced/pop/pop.00033.wav\n",
      "copying: res/Data/genres_original/rock/rock.00067.wav -> res/Data/genres_reduced/rock/rock.00067.wav\n",
      "copying: res/Data/genres_original/country/country.00066.wav -> res/Data/genres_reduced/country/country.00066.wav\n",
      "copying: res/Data/genres_original/reggae/reggae.00019.wav -> res/Data/genres_reduced/reggae/reggae.00019.wav\n",
      "copying: res/Data/genres_original/jazz/jazz.00038.wav -> res/Data/genres_reduced/jazz/jazz.00038.wav\n",
      "copying: res/Data/genres_original/blues/blues.00083.wav -> res/Data/genres_reduced/blues/blues.00083.wav\n"
     ]
    }
   ],
   "source": [
    "move_file(DATASET_PATH, TARGET_PATH)"
   ]
  }
 ],
 "metadata": {
  "kernelspec": {
   "display_name": "Python 3 (ipykernel)",
   "language": "python",
   "name": "python3"
  },
  "language_info": {
   "codemirror_mode": {
    "name": "ipython",
    "version": 3
   },
   "file_extension": ".py",
   "mimetype": "text/x-python",
   "name": "python",
   "nbconvert_exporter": "python",
   "pygments_lexer": "ipython3",
   "version": "3.9.20"
  }
 },
 "nbformat": 4,
 "nbformat_minor": 5
}
