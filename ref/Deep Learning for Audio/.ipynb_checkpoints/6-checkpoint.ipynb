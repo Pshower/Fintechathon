{
 "cells": [
  {
   "cell_type": "code",
   "execution_count": 1,
   "id": "9e1d91b1",
   "metadata": {},
   "outputs": [],
   "source": [
    "import numpy as np\n",
    "\n",
    "class MLP:\n",
    "    \n",
    "    def __init__(self, num_inputs = 3, num_hidden = [3, 5], num_outputs = 2):\n",
    "        self.num_inputs = num_inputs\n",
    "        self.num_hidden = num_hidden\n",
    "        self.num_outputs = num_outputs\n",
    "        \n",
    "        layers = [self.num_inputs] + self.num_hidden + [self.num_outputs]\n",
    "        \n",
    "        # initiate random weights\n",
    "        self.weights = []\n",
    "        for i in range(len(layers) - 1):\n",
    "            w = np.random.rand(layers[i], layers[i + 1])\n",
    "            self.weights.append(w)\n",
    "        \n",
    "    def forward_propagate(self, inputs):\n",
    "        # first layers\n",
    "        activations = inputs\n",
    "        \n",
    "        for w in self.weights:\n",
    "            # calculate net inpus\n",
    "            net_inputs = np.dot(activations, w)\n",
    "            \n",
    "            # calculate the activations\n",
    "            activations = self._sigmoid(net_inputs)\n",
    "            \n",
    "        return activations\n",
    "    \n",
    "    def _sigmoid(self, x):\n",
    "        return 1.0 / (1 + np.exp(-x))\n",
    "\n",
    "        "
   ]
  },
  {
   "cell_type": "code",
   "execution_count": 2,
   "id": "4b8898e7",
   "metadata": {},
   "outputs": [
    {
     "name": "stdout",
     "output_type": "stream",
     "text": [
      "The network inputs is: [0.14716591 0.81561455 0.92935541]\n",
      "The network output is: [0.91522208 0.80944775]\n"
     ]
    }
   ],
   "source": [
    "if __name__ == \"__main__\":\n",
    "    # create an MLP\n",
    "    mlp = MLP()\n",
    "    \n",
    "    # create some inputs\n",
    "    inputs = np.random.rand(mlp.num_inputs)\n",
    "    \n",
    "    # perform forward prop\n",
    "    outputs = mlp.forward_propagate(inputs)\n",
    "    \n",
    "    # print the results\n",
    "    print(\"The network inputs is: {}\".format(inputs))\n",
    "    print(\"The network output is: {}\".format(outputs))"
   ]
  },
  {
   "cell_type": "code",
   "execution_count": null,
   "id": "eab1133a",
   "metadata": {},
   "outputs": [],
   "source": []
  },
  {
   "cell_type": "code",
   "execution_count": null,
   "id": "c6d0a1a1",
   "metadata": {},
   "outputs": [],
   "source": []
  }
 ],
 "metadata": {
  "kernelspec": {
   "display_name": "Python 3 (ipykernel)",
   "language": "python",
   "name": "python3"
  },
  "language_info": {
   "codemirror_mode": {
    "name": "ipython",
    "version": 3
   },
   "file_extension": ".py",
   "mimetype": "text/x-python",
   "name": "python",
   "nbconvert_exporter": "python",
   "pygments_lexer": "ipython3",
   "version": "3.9.20"
  }
 },
 "nbformat": 4,
 "nbformat_minor": 5
}
