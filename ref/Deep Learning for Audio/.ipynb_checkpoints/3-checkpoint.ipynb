{
 "cells": [
  {
   "cell_type": "code",
   "execution_count": 1,
   "id": "c3b323ac",
   "metadata": {},
   "outputs": [],
   "source": [
    "import math\n",
    "\n",
    "def sigmoid(x):\n",
    "    y = 1.0 / (1 + math.exp(-x))\n",
    "    return y\n",
    "\n",
    "def activate(inputs, weights):\n",
    "    h = 0\n",
    "    for x, w in zip(inputs, weights):\n",
    "        h += x*w\n",
    "    \n",
    "    return sigmoid(h)"
   ]
  },
  {
   "cell_type": "code",
   "execution_count": 2,
   "id": "1ed4dc4b",
   "metadata": {},
   "outputs": [
    {
     "name": "stdout",
     "output_type": "stream",
     "text": [
      "0.610639233949222\n"
     ]
    }
   ],
   "source": [
    "if __name__ == \"__main__\":\n",
    "    inputs = [.5, .3, .2]\n",
    "    weights = [.4, .7, .2]\n",
    "    output = activate(inputs, weights)\n",
    "    print(output)"
   ]
  },
  {
   "cell_type": "code",
   "execution_count": null,
   "id": "c2754c9b",
   "metadata": {},
   "outputs": [],
   "source": []
  }
 ],
 "metadata": {
  "kernelspec": {
   "display_name": "Python 3 (ipykernel)",
   "language": "python",
   "name": "python3"
  },
  "language_info": {
   "codemirror_mode": {
    "name": "ipython",
    "version": 3
   },
   "file_extension": ".py",
   "mimetype": "text/x-python",
   "name": "python",
   "nbconvert_exporter": "python",
   "pygments_lexer": "ipython3",
   "version": "3.9.20"
  }
 },
 "nbformat": 4,
 "nbformat_minor": 5
}
