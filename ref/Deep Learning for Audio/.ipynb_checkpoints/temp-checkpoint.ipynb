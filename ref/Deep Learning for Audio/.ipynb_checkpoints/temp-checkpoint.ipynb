{
 "cells": [
  {
   "cell_type": "code",
   "execution_count": 1,
   "id": "f3f2dba3",
   "metadata": {},
   "outputs": [
    {
     "name": "stdout",
     "output_type": "stream",
     "text": [
      "1 1 1\n",
      "1 2 1\n",
      "3 2 3\n"
     ]
    }
   ],
   "source": [
    "class Parant:\n",
    "    x = 1\n",
    "\n",
    "class Child1(Parant):\n",
    "    pass\n",
    "class Child2(Parant):\n",
    "    pass\n",
    "\n",
    "print(Parant.x, Child1.x, Child2.x)\n",
    "Child1.x =2\n",
    "print(Parant.x, Child1.x, Child2.x)\n",
    "Parant.x = 3\n",
    "print(Parant.x, Child1.x, Child2.x)"
   ]
  }
 ],
 "metadata": {
  "kernelspec": {
   "display_name": "Python 3 (ipykernel)",
   "language": "python",
   "name": "python3"
  },
  "language_info": {
   "codemirror_mode": {
    "name": "ipython",
    "version": 3
   },
   "file_extension": ".py",
   "mimetype": "text/x-python",
   "name": "python",
   "nbconvert_exporter": "python",
   "pygments_lexer": "ipython3",
   "version": "3.9.20"
  }
 },
 "nbformat": 4,
 "nbformat_minor": 5
}
