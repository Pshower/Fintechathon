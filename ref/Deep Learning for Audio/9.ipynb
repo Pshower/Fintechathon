{
 "cells": [
  {
   "cell_type": "code",
   "execution_count": 3,
   "id": "5a7c2e84",
   "metadata": {
    "scrolled": true
   },
   "outputs": [
    {
     "name": "stdout",
     "output_type": "stream",
     "text": [
      "Looking in indexes: https://pypi.tuna.tsinghua.edu.cn/simple\n",
      "Requirement already satisfied: scikit-learn in /home/pshower/miniconda3/envs/Fintech/lib/python3.9/site-packages (1.5.2)\n",
      "Requirement already satisfied: numpy>=1.19.5 in /home/pshower/miniconda3/envs/Fintech/lib/python3.9/site-packages (from scikit-learn) (2.0.2)\n",
      "Requirement already satisfied: scipy>=1.6.0 in /home/pshower/miniconda3/envs/Fintech/lib/python3.9/site-packages (from scikit-learn) (1.13.1)\n",
      "Requirement already satisfied: joblib>=1.2.0 in /home/pshower/miniconda3/envs/Fintech/lib/python3.9/site-packages (from scikit-learn) (1.4.2)\n",
      "Requirement already satisfied: threadpoolctl>=3.1.0 in /home/pshower/miniconda3/envs/Fintech/lib/python3.9/site-packages (from scikit-learn) (3.5.0)\n",
      "\u001b[33mDEPRECATION: omegaconf 2.0.6 has a non-standard dependency specifier PyYAML>=5.1.*. pip 24.1 will enforce this behaviour change. A possible replacement is to upgrade to a newer version of omegaconf or contact the author to suggest that they release a version with a conforming dependency specifiers. Discussion can be found at https://github.com/pypa/pip/issues/12063\u001b[0m\u001b[33m\n",
      "\u001b[0m\n",
      "\u001b[1m[\u001b[0m\u001b[34;49mnotice\u001b[0m\u001b[1;39;49m]\u001b[0m\u001b[39;49m A new release of pip is available: \u001b[0m\u001b[31;49m24.0\u001b[0m\u001b[39;49m -> \u001b[0m\u001b[32;49m24.3\u001b[0m\n",
      "\u001b[1m[\u001b[0m\u001b[34;49mnotice\u001b[0m\u001b[1;39;49m]\u001b[0m\u001b[39;49m To update, run: \u001b[0m\u001b[32;49mpip install --upgrade pip\u001b[0m\n"
     ]
    }
   ],
   "source": [
    "# !pip install scikit-learn -i https://pypi.tuna.tsinghua.edu.cn/simple"
   ]
  },
  {
   "cell_type": "code",
   "execution_count": 4,
   "id": "91d72200",
   "metadata": {
    "scrolled": true
   },
   "outputs": [
    {
     "name": "stdout",
     "output_type": "stream",
     "text": [
      "Requirement already satisfied: scikit-learn in /home/pshower/miniconda3/envs/Fintech/lib/python3.9/site-packages (1.5.2)\n",
      "Requirement already satisfied: numpy>=1.19.5 in /home/pshower/miniconda3/envs/Fintech/lib/python3.9/site-packages (from scikit-learn) (2.0.2)\n",
      "Requirement already satisfied: scipy>=1.6.0 in /home/pshower/miniconda3/envs/Fintech/lib/python3.9/site-packages (from scikit-learn) (1.13.1)\n",
      "Requirement already satisfied: joblib>=1.2.0 in /home/pshower/miniconda3/envs/Fintech/lib/python3.9/site-packages (from scikit-learn) (1.4.2)\n",
      "Requirement already satisfied: threadpoolctl>=3.1.0 in /home/pshower/miniconda3/envs/Fintech/lib/python3.9/site-packages (from scikit-learn) (3.5.0)\n",
      "\u001b[33mWARNING: Error parsing dependencies of omegaconf: .* suffix can only be used with `==` or `!=` operators\n",
      "    PyYAML (>=5.1.*)\n",
      "            ~~~~~~^\u001b[0m\u001b[33m\n",
      "\u001b[0m"
     ]
    }
   ],
   "source": [
    "# !pip install scikit-learn --upgrade"
   ]
  },
  {
   "cell_type": "code",
   "execution_count": 3,
   "id": "a6ab324e",
   "metadata": {},
   "outputs": [
    {
     "name": "stdout",
     "output_type": "stream",
     "text": [
      "Requirement already satisfied: numpy in /home/pshower/miniconda3/envs/Fintech/lib/python3.9/site-packages (2.0.2)\n",
      "\u001b[33mWARNING: Error parsing dependencies of omegaconf: .* suffix can only be used with `==` or `!=` operators\n",
      "    PyYAML (>=5.1.*)\n",
      "            ~~~~~~^\u001b[0m\u001b[33m\n",
      "\u001b[0m"
     ]
    }
   ],
   "source": [
    "# !pip install numpy --upgrade"
   ]
  },
  {
   "cell_type": "code",
   "execution_count": 3,
   "id": "84468334",
   "metadata": {
    "scrolled": true
   },
   "outputs": [
    {
     "name": "stdout",
     "output_type": "stream",
     "text": [
      "Collecting numpy==1.22.4\n",
      "  Downloading numpy-1.22.4-cp39-cp39-manylinux_2_17_x86_64.manylinux2014_x86_64.whl.metadata (2.0 kB)\n",
      "Downloading numpy-1.22.4-cp39-cp39-manylinux_2_17_x86_64.manylinux2014_x86_64.whl (16.8 MB)\n",
      "\u001b[2K   \u001b[90m━━━━━━━━━━━━━━━━━━━━━━━━━━━━━━━━━━━━━━━━\u001b[0m \u001b[32m16.8/16.8 MB\u001b[0m \u001b[31m8.3 MB/s\u001b[0m eta \u001b[36m0:00:00\u001b[0m00:01\u001b[0m00:01\u001b[0m\n",
      "\u001b[?25h\u001b[33mWARNING: Error parsing dependencies of omegaconf: .* suffix can only be used with `==` or `!=` operators\n",
      "    PyYAML (>=5.1.*)\n",
      "            ~~~~~~^\u001b[0m\u001b[33m\n",
      "\u001b[0mInstalling collected packages: numpy\n",
      "  Attempting uninstall: numpy\n",
      "    Found existing installation: numpy 1.19.5\n",
      "    Uninstalling numpy-1.19.5:\n",
      "      Successfully uninstalled numpy-1.19.5\n",
      "\u001b[31mERROR: pip's dependency resolver does not currently take into account all the packages that are installed. This behaviour is the source of the following dependency conflicts.\n",
      "fairseq 0.12.2 requires omegaconf<2.1, which is not installed.\n",
      "d2l 0.17.6 requires numpy==1.21.5, but you have numpy 1.22.4 which is incompatible.\u001b[0m\u001b[31m\n",
      "\u001b[0mSuccessfully installed numpy-1.22.4\n"
     ]
    }
   ],
   "source": [
    "# !pip install numpy==1.22.4"
   ]
  },
  {
   "cell_type": "code",
   "execution_count": 2,
   "id": "05d4f048",
   "metadata": {
    "scrolled": true
   },
   "outputs": [
    {
     "name": "stdout",
     "output_type": "stream",
     "text": [
      "Requirement already satisfied: pip in /home/pshower/miniconda3/envs/Fintech/lib/python3.9/site-packages (24.0)\n",
      "Collecting pip\n",
      "  Downloading pip-24.3.1-py3-none-any.whl.metadata (3.7 kB)\n",
      "Downloading pip-24.3.1-py3-none-any.whl (1.8 MB)\n",
      "\u001b[2K   \u001b[90m━━━━━━━━━━━━━━━━━━━━━━━━━━━━━━━━━━━━━━━━\u001b[0m \u001b[32m1.8/1.8 MB\u001b[0m \u001b[31m3.3 MB/s\u001b[0m eta \u001b[36m0:00:00\u001b[0ma \u001b[36m0:00:01\u001b[0m0m\n",
      "\u001b[?25h\u001b[33mDEPRECATION: omegaconf 2.0.6 has a non-standard dependency specifier PyYAML>=5.1.*. pip 24.1 will enforce this behaviour change. A possible replacement is to upgrade to a newer version of omegaconf or contact the author to suggest that they release a version with a conforming dependency specifiers. Discussion can be found at https://github.com/pypa/pip/issues/12063\u001b[0m\u001b[33m\n",
      "\u001b[0mInstalling collected packages: pip\n",
      "  Attempting uninstall: pip\n",
      "    Found existing installation: pip 24.0\n",
      "    Uninstalling pip-24.0:\n",
      "      Successfully uninstalled pip-24.0\n",
      "Successfully installed pip-24.3.1\n"
     ]
    }
   ],
   "source": [
    "# !pip install --upgrade pip"
   ]
  },
  {
   "cell_type": "code",
   "execution_count": 4,
   "id": "4e766443",
   "metadata": {},
   "outputs": [
    {
     "name": "stdout",
     "output_type": "stream",
     "text": [
      "Collecting tensorflow==2.8.0\n",
      "  Using cached tensorflow-2.8.0-cp39-cp39-manylinux2010_x86_64.whl.metadata (2.9 kB)\n",
      "Collecting absl-py>=0.4.0 (from tensorflow==2.8.0)\n",
      "  Using cached absl_py-2.1.0-py3-none-any.whl.metadata (2.3 kB)\n",
      "Collecting astunparse>=1.6.0 (from tensorflow==2.8.0)\n",
      "  Using cached astunparse-1.6.3-py2.py3-none-any.whl.metadata (4.4 kB)\n",
      "Collecting flatbuffers>=1.12 (from tensorflow==2.8.0)\n",
      "  Using cached flatbuffers-24.3.25-py2.py3-none-any.whl.metadata (850 bytes)\n",
      "Collecting gast>=0.2.1 (from tensorflow==2.8.0)\n",
      "  Downloading gast-0.6.0-py3-none-any.whl.metadata (1.3 kB)\n",
      "Collecting google-pasta>=0.1.1 (from tensorflow==2.8.0)\n",
      "  Using cached google_pasta-0.2.0-py3-none-any.whl.metadata (814 bytes)\n",
      "Collecting h5py>=2.9.0 (from tensorflow==2.8.0)\n",
      "  Downloading h5py-3.12.1-cp39-cp39-manylinux_2_17_x86_64.manylinux2014_x86_64.whl.metadata (2.5 kB)\n",
      "Collecting keras-preprocessing>=1.1.1 (from tensorflow==2.8.0)\n",
      "  Using cached Keras_Preprocessing-1.1.2-py2.py3-none-any.whl.metadata (1.9 kB)\n",
      "Collecting libclang>=9.0.1 (from tensorflow==2.8.0)\n",
      "  Using cached libclang-18.1.1-py2.py3-none-manylinux2010_x86_64.whl.metadata (5.2 kB)\n",
      "Requirement already satisfied: numpy>=1.20 in /home/pshower/miniconda3/envs/Fintech/lib/python3.9/site-packages (from tensorflow==2.8.0) (1.22.4)\n",
      "Collecting opt-einsum>=2.3.2 (from tensorflow==2.8.0)\n",
      "  Downloading opt_einsum-3.4.0-py3-none-any.whl.metadata (6.3 kB)\n",
      "Requirement already satisfied: protobuf>=3.9.2 in /home/pshower/miniconda3/envs/Fintech/lib/python3.9/site-packages (from tensorflow==2.8.0) (5.28.3)\n",
      "Requirement already satisfied: setuptools in /home/pshower/miniconda3/envs/Fintech/lib/python3.9/site-packages (from tensorflow==2.8.0) (75.1.0)\n",
      "Requirement already satisfied: six>=1.12.0 in /home/pshower/miniconda3/envs/Fintech/lib/python3.9/site-packages (from tensorflow==2.8.0) (1.16.0)\n",
      "Collecting termcolor>=1.1.0 (from tensorflow==2.8.0)\n",
      "  Downloading termcolor-2.5.0-py3-none-any.whl.metadata (6.1 kB)\n",
      "Requirement already satisfied: typing-extensions>=3.6.6 in /home/pshower/miniconda3/envs/Fintech/lib/python3.9/site-packages (from tensorflow==2.8.0) (4.12.2)\n",
      "Collecting wrapt>=1.11.0 (from tensorflow==2.8.0)\n",
      "  Using cached wrapt-1.16.0-cp39-cp39-manylinux_2_5_x86_64.manylinux1_x86_64.manylinux_2_17_x86_64.manylinux2014_x86_64.whl.metadata (6.6 kB)\n",
      "Collecting tensorboard<2.9,>=2.8 (from tensorflow==2.8.0)\n",
      "  Using cached tensorboard-2.8.0-py3-none-any.whl.metadata (1.9 kB)\n",
      "Collecting tf-estimator-nightly==2.8.0.dev2021122109 (from tensorflow==2.8.0)\n",
      "  Using cached tf_estimator_nightly-2.8.0.dev2021122109-py2.py3-none-any.whl.metadata (1.2 kB)\n",
      "Collecting keras<2.9,>=2.8.0rc0 (from tensorflow==2.8.0)\n",
      "  Using cached keras-2.8.0-py2.py3-none-any.whl.metadata (1.3 kB)\n",
      "Collecting tensorflow-io-gcs-filesystem>=0.23.1 (from tensorflow==2.8.0)\n",
      "  Downloading tensorflow_io_gcs_filesystem-0.37.1-cp39-cp39-manylinux_2_17_x86_64.manylinux2014_x86_64.whl.metadata (14 kB)\n",
      "Collecting grpcio<2.0,>=1.24.3 (from tensorflow==2.8.0)\n",
      "  Downloading grpcio-1.67.1-cp39-cp39-manylinux_2_17_x86_64.manylinux2014_x86_64.whl.metadata (3.9 kB)\n",
      "Requirement already satisfied: wheel<1.0,>=0.23.0 in /home/pshower/miniconda3/envs/Fintech/lib/python3.9/site-packages (from astunparse>=1.6.0->tensorflow==2.8.0) (0.44.0)\n",
      "Collecting google-auth<3,>=1.6.3 (from tensorboard<2.9,>=2.8->tensorflow==2.8.0)\n",
      "  Downloading google_auth-2.35.0-py2.py3-none-any.whl.metadata (4.7 kB)\n",
      "Collecting google-auth-oauthlib<0.5,>=0.4.1 (from tensorboard<2.9,>=2.8->tensorflow==2.8.0)\n",
      "  Using cached google_auth_oauthlib-0.4.6-py2.py3-none-any.whl.metadata (2.7 kB)\n",
      "Collecting markdown>=2.6.8 (from tensorboard<2.9,>=2.8->tensorflow==2.8.0)\n",
      "  Downloading Markdown-3.7-py3-none-any.whl.metadata (7.0 kB)\n",
      "Requirement already satisfied: requests<3,>=2.21.0 in /home/pshower/miniconda3/envs/Fintech/lib/python3.9/site-packages (from tensorboard<2.9,>=2.8->tensorflow==2.8.0) (2.25.1)\n",
      "Collecting tensorboard-data-server<0.7.0,>=0.6.0 (from tensorboard<2.9,>=2.8->tensorflow==2.8.0)\n",
      "  Using cached tensorboard_data_server-0.6.1-py3-none-manylinux2010_x86_64.whl.metadata (1.1 kB)\n",
      "Collecting tensorboard-plugin-wit>=1.6.0 (from tensorboard<2.9,>=2.8->tensorflow==2.8.0)\n",
      "  Using cached tensorboard_plugin_wit-1.8.1-py3-none-any.whl.metadata (873 bytes)\n",
      "Collecting werkzeug>=0.11.15 (from tensorboard<2.9,>=2.8->tensorflow==2.8.0)\n",
      "  Downloading werkzeug-3.0.6-py3-none-any.whl.metadata (3.7 kB)\n",
      "Collecting cachetools<6.0,>=2.0.0 (from google-auth<3,>=1.6.3->tensorboard<2.9,>=2.8->tensorflow==2.8.0)\n",
      "  Downloading cachetools-5.5.0-py3-none-any.whl.metadata (5.3 kB)\n",
      "Collecting pyasn1-modules>=0.2.1 (from google-auth<3,>=1.6.3->tensorboard<2.9,>=2.8->tensorflow==2.8.0)\n",
      "  Downloading pyasn1_modules-0.4.1-py3-none-any.whl.metadata (3.5 kB)\n",
      "Collecting rsa<5,>=3.1.4 (from google-auth<3,>=1.6.3->tensorboard<2.9,>=2.8->tensorflow==2.8.0)\n",
      "  Using cached rsa-4.9-py3-none-any.whl.metadata (4.2 kB)\n",
      "Collecting requests-oauthlib>=0.7.0 (from google-auth-oauthlib<0.5,>=0.4.1->tensorboard<2.9,>=2.8->tensorflow==2.8.0)\n",
      "  Using cached requests_oauthlib-2.0.0-py2.py3-none-any.whl.metadata (11 kB)\n",
      "Requirement already satisfied: importlib-metadata>=4.4 in /home/pshower/miniconda3/envs/Fintech/lib/python3.9/site-packages (from markdown>=2.6.8->tensorboard<2.9,>=2.8->tensorflow==2.8.0) (8.5.0)\n",
      "Requirement already satisfied: chardet<5,>=3.0.2 in /home/pshower/miniconda3/envs/Fintech/lib/python3.9/site-packages (from requests<3,>=2.21.0->tensorboard<2.9,>=2.8->tensorflow==2.8.0) (4.0.0)\n",
      "Requirement already satisfied: idna<3,>=2.5 in /home/pshower/miniconda3/envs/Fintech/lib/python3.9/site-packages (from requests<3,>=2.21.0->tensorboard<2.9,>=2.8->tensorflow==2.8.0) (2.10)\n",
      "Requirement already satisfied: urllib3<1.27,>=1.21.1 in /home/pshower/miniconda3/envs/Fintech/lib/python3.9/site-packages (from requests<3,>=2.21.0->tensorboard<2.9,>=2.8->tensorflow==2.8.0) (1.26.20)\n",
      "Requirement already satisfied: certifi>=2017.4.17 in /home/pshower/miniconda3/envs/Fintech/lib/python3.9/site-packages (from requests<3,>=2.21.0->tensorboard<2.9,>=2.8->tensorflow==2.8.0) (2024.8.30)\n",
      "Requirement already satisfied: MarkupSafe>=2.1.1 in /home/pshower/miniconda3/envs/Fintech/lib/python3.9/site-packages (from werkzeug>=0.11.15->tensorboard<2.9,>=2.8->tensorflow==2.8.0) (3.0.2)\n",
      "Requirement already satisfied: zipp>=3.20 in /home/pshower/miniconda3/envs/Fintech/lib/python3.9/site-packages (from importlib-metadata>=4.4->markdown>=2.6.8->tensorboard<2.9,>=2.8->tensorflow==2.8.0) (3.20.2)\n",
      "Collecting pyasn1<0.7.0,>=0.4.6 (from pyasn1-modules>=0.2.1->google-auth<3,>=1.6.3->tensorboard<2.9,>=2.8->tensorflow==2.8.0)\n",
      "  Downloading pyasn1-0.6.1-py3-none-any.whl.metadata (8.4 kB)\n",
      "Collecting oauthlib>=3.0.0 (from requests-oauthlib>=0.7.0->google-auth-oauthlib<0.5,>=0.4.1->tensorboard<2.9,>=2.8->tensorflow==2.8.0)\n",
      "  Using cached oauthlib-3.2.2-py3-none-any.whl.metadata (7.5 kB)\n",
      "Using cached tensorflow-2.8.0-cp39-cp39-manylinux2010_x86_64.whl (497.6 MB)\n",
      "Using cached tf_estimator_nightly-2.8.0.dev2021122109-py2.py3-none-any.whl (462 kB)\n",
      "Using cached absl_py-2.1.0-py3-none-any.whl (133 kB)\n",
      "Using cached astunparse-1.6.3-py2.py3-none-any.whl (12 kB)\n",
      "Using cached flatbuffers-24.3.25-py2.py3-none-any.whl (26 kB)\n",
      "Downloading gast-0.6.0-py3-none-any.whl (21 kB)\n",
      "Using cached google_pasta-0.2.0-py3-none-any.whl (57 kB)\n",
      "Downloading grpcio-1.67.1-cp39-cp39-manylinux_2_17_x86_64.manylinux2014_x86_64.whl (5.9 MB)\n",
      "\u001b[2K   \u001b[90m━━━━━━━━━━━━━━━━━━━━━━━━━━━━━━━━━━━━━━━━\u001b[0m \u001b[32m5.9/5.9 MB\u001b[0m \u001b[31m6.0 MB/s\u001b[0m eta \u001b[36m0:00:00\u001b[0m00:01\u001b[0m00:01\u001b[0m\n",
      "\u001b[?25hDownloading h5py-3.12.1-cp39-cp39-manylinux_2_17_x86_64.manylinux2014_x86_64.whl (5.4 MB)\n",
      "\u001b[2K   \u001b[90m━━━━━━━━━━━━━━━━━━━━━━━━━━━━━━━━━━━━━━━━\u001b[0m \u001b[32m5.4/5.4 MB\u001b[0m \u001b[31m4.3 MB/s\u001b[0m eta \u001b[36m0:00:00\u001b[0m00:01\u001b[0m00:01\u001b[0m\n",
      "\u001b[?25hUsing cached keras-2.8.0-py2.py3-none-any.whl (1.4 MB)\n",
      "Using cached Keras_Preprocessing-1.1.2-py2.py3-none-any.whl (42 kB)\n",
      "Using cached libclang-18.1.1-py2.py3-none-manylinux2010_x86_64.whl (24.5 MB)\n",
      "Downloading opt_einsum-3.4.0-py3-none-any.whl (71 kB)\n",
      "Using cached tensorboard-2.8.0-py3-none-any.whl (5.8 MB)\n",
      "Downloading tensorflow_io_gcs_filesystem-0.37.1-cp39-cp39-manylinux_2_17_x86_64.manylinux2014_x86_64.whl (5.1 MB)\n"
     ]
    },
    {
     "name": "stdout",
     "output_type": "stream",
     "text": [
      "\u001b[2K   \u001b[90m━━━━━━━━━━━━━━━━━━━━━━━━━━━━━━━━━━━━━━━━\u001b[0m \u001b[32m5.1/5.1 MB\u001b[0m \u001b[31m4.8 MB/s\u001b[0m eta \u001b[36m0:00:00\u001b[0ma \u001b[36m0:00:01\u001b[0m\n",
      "\u001b[?25hDownloading termcolor-2.5.0-py3-none-any.whl (7.8 kB)\n",
      "Using cached wrapt-1.16.0-cp39-cp39-manylinux_2_5_x86_64.manylinux1_x86_64.manylinux_2_17_x86_64.manylinux2014_x86_64.whl (80 kB)\n",
      "Downloading google_auth-2.35.0-py2.py3-none-any.whl (208 kB)\n",
      "Using cached google_auth_oauthlib-0.4.6-py2.py3-none-any.whl (18 kB)\n",
      "Downloading Markdown-3.7-py3-none-any.whl (106 kB)\n",
      "Using cached tensorboard_data_server-0.6.1-py3-none-manylinux2010_x86_64.whl (4.9 MB)\n",
      "Using cached tensorboard_plugin_wit-1.8.1-py3-none-any.whl (781 kB)\n",
      "Downloading werkzeug-3.0.6-py3-none-any.whl (227 kB)\n",
      "Downloading cachetools-5.5.0-py3-none-any.whl (9.5 kB)\n",
      "Downloading pyasn1_modules-0.4.1-py3-none-any.whl (181 kB)\n",
      "Using cached requests_oauthlib-2.0.0-py2.py3-none-any.whl (24 kB)\n",
      "Using cached rsa-4.9-py3-none-any.whl (34 kB)\n",
      "Using cached oauthlib-3.2.2-py3-none-any.whl (151 kB)\n",
      "Downloading pyasn1-0.6.1-py3-none-any.whl (83 kB)\n",
      "\u001b[33mWARNING: Error parsing dependencies of omegaconf: .* suffix can only be used with `==` or `!=` operators\n",
      "    PyYAML (>=5.1.*)\n",
      "            ~~~~~~^\u001b[0m\u001b[33m\n",
      "\u001b[0mInstalling collected packages: tf-estimator-nightly, tensorboard-plugin-wit, libclang, keras, flatbuffers, wrapt, werkzeug, termcolor, tensorflow-io-gcs-filesystem, tensorboard-data-server, pyasn1, opt-einsum, oauthlib, keras-preprocessing, h5py, grpcio, google-pasta, gast, cachetools, astunparse, absl-py, rsa, requests-oauthlib, pyasn1-modules, markdown, google-auth, google-auth-oauthlib, tensorboard, tensorflow\n",
      "Successfully installed absl-py-2.1.0 astunparse-1.6.3 cachetools-5.5.0 flatbuffers-24.3.25 gast-0.6.0 google-auth-2.35.0 google-auth-oauthlib-0.4.6 google-pasta-0.2.0 grpcio-1.67.1 h5py-3.12.1 keras-2.8.0 keras-preprocessing-1.1.2 libclang-18.1.1 markdown-3.7 oauthlib-3.2.2 opt-einsum-3.4.0 pyasn1-0.6.1 pyasn1-modules-0.4.1 requests-oauthlib-2.0.0 rsa-4.9 tensorboard-2.8.0 tensorboard-data-server-0.6.1 tensorboard-plugin-wit-1.8.1 tensorflow-2.8.0 tensorflow-io-gcs-filesystem-0.37.1 termcolor-2.5.0 tf-estimator-nightly-2.8.0.dev2021122109 werkzeug-3.0.6 wrapt-1.16.0\n"
     ]
    }
   ],
   "source": [
    "# !pip install tensorflow==2.8.0"
   ]
  },
  {
   "cell_type": "code",
   "execution_count": 5,
   "id": "26f5439f",
   "metadata": {
    "scrolled": true
   },
   "outputs": [
    {
     "name": "stdout",
     "output_type": "stream",
     "text": [
      "Collecting tensorflow-probability==0.16.0\n",
      "  Using cached tensorflow_probability-0.16.0-py2.py3-none-any.whl.metadata (13 kB)\n",
      "Requirement already satisfied: absl-py in /home/pshower/miniconda3/envs/Fintech/lib/python3.9/site-packages (from tensorflow-probability==0.16.0) (2.1.0)\n",
      "Requirement already satisfied: six>=1.10.0 in /home/pshower/miniconda3/envs/Fintech/lib/python3.9/site-packages (from tensorflow-probability==0.16.0) (1.16.0)\n",
      "Requirement already satisfied: numpy>=1.13.3 in /home/pshower/miniconda3/envs/Fintech/lib/python3.9/site-packages (from tensorflow-probability==0.16.0) (1.22.4)\n",
      "Requirement already satisfied: decorator in /home/pshower/miniconda3/envs/Fintech/lib/python3.9/site-packages (from tensorflow-probability==0.16.0) (5.1.1)\n",
      "Collecting cloudpickle>=1.3 (from tensorflow-probability==0.16.0)\n",
      "  Downloading cloudpickle-3.1.0-py3-none-any.whl.metadata (7.0 kB)\n",
      "Requirement already satisfied: gast>=0.3.2 in /home/pshower/miniconda3/envs/Fintech/lib/python3.9/site-packages (from tensorflow-probability==0.16.0) (0.6.0)\n",
      "Collecting dm-tree (from tensorflow-probability==0.16.0)\n",
      "  Using cached dm_tree-0.1.8-cp39-cp39-manylinux_2_17_x86_64.manylinux2014_x86_64.whl.metadata (1.9 kB)\n",
      "Using cached tensorflow_probability-0.16.0-py2.py3-none-any.whl (6.3 MB)\n",
      "Downloading cloudpickle-3.1.0-py3-none-any.whl (22 kB)\n",
      "Using cached dm_tree-0.1.8-cp39-cp39-manylinux_2_17_x86_64.manylinux2014_x86_64.whl (153 kB)\n",
      "\u001b[33mWARNING: Error parsing dependencies of omegaconf: .* suffix can only be used with `==` or `!=` operators\n",
      "    PyYAML (>=5.1.*)\n",
      "            ~~~~~~^\u001b[0m\u001b[33m\n",
      "\u001b[0mInstalling collected packages: dm-tree, cloudpickle, tensorflow-probability\n",
      "Successfully installed cloudpickle-3.1.0 dm-tree-0.1.8 tensorflow-probability-0.16.0\n"
     ]
    }
   ],
   "source": [
    "# !pip install tensorflow-probability==0.16.0"
   ]
  },
  {
   "cell_type": "code",
   "execution_count": 2,
   "id": "b556acd3",
   "metadata": {
    "scrolled": true
   },
   "outputs": [
    {
     "name": "stdout",
     "output_type": "stream",
     "text": [
      "Collecting protobuf==3.19.0\n",
      "  Using cached protobuf-3.19.0-cp39-cp39-manylinux_2_17_x86_64.manylinux2014_x86_64.whl.metadata (806 bytes)\n",
      "Using cached protobuf-3.19.0-cp39-cp39-manylinux_2_17_x86_64.manylinux2014_x86_64.whl (1.1 MB)\n",
      "\u001b[33mWARNING: Error parsing dependencies of omegaconf: .* suffix can only be used with `==` or `!=` operators\n",
      "    PyYAML (>=5.1.*)\n",
      "            ~~~~~~^\u001b[0m\u001b[33m\n",
      "\u001b[0mInstalling collected packages: protobuf\n",
      "  Attempting uninstall: protobuf\n",
      "    Found existing installation: protobuf 5.28.3\n",
      "    Uninstalling protobuf-5.28.3:\n",
      "      Successfully uninstalled protobuf-5.28.3\n",
      "Successfully installed protobuf-3.19.0\n"
     ]
    }
   ],
   "source": [
    "# !pip install protobuf==3.19.0"
   ]
  },
  {
   "cell_type": "code",
   "execution_count": 3,
   "id": "3a4f74fc",
   "metadata": {},
   "outputs": [
    {
     "name": "stdout",
     "output_type": "stream",
     "text": [
      "2.8.0\n"
     ]
    },
    {
     "name": "stderr",
     "output_type": "stream",
     "text": [
      "2024-10-30 20:45:52.935379: I tensorflow/stream_executor/cuda/cuda_gpu_executor.cc:922] could not open file to read NUMA node: /sys/bus/pci/devices/0000:01:00.0/numa_node\n",
      "Your kernel may have been built without NUMA support.\n",
      "2024-10-30 20:45:53.000057: I tensorflow/stream_executor/cuda/cuda_gpu_executor.cc:922] could not open file to read NUMA node: /sys/bus/pci/devices/0000:01:00.0/numa_node\n",
      "Your kernel may have been built without NUMA support.\n",
      "2024-10-30 20:45:53.000721: I tensorflow/stream_executor/cuda/cuda_gpu_executor.cc:922] could not open file to read NUMA node: /sys/bus/pci/devices/0000:01:00.0/numa_node\n",
      "Your kernel may have been built without NUMA support.\n"
     ]
    },
    {
     "data": {
      "text/plain": [
       "[PhysicalDevice(name='/physical_device:GPU:0', device_type='GPU')]"
      ]
     },
     "execution_count": 3,
     "metadata": {},
     "output_type": "execute_result"
    }
   ],
   "source": [
    "# import tensorflow as tf\n",
    "# print(tf.__version__)\n",
    "# tf.config.list_physical_devices('GPU')"
   ]
  },
  {
   "cell_type": "code",
   "execution_count": null,
   "id": "cc33ea10",
   "metadata": {},
   "outputs": [],
   "source": []
  },
  {
   "cell_type": "code",
   "execution_count": 3,
   "id": "355abbcd",
   "metadata": {
    "scrolled": true
   },
   "outputs": [
    {
     "name": "stdout",
     "output_type": "stream",
     "text": [
      "Epoch 1/100\n",
      "110/110 [==============================] - 1s 4ms/step - loss: 0.0453\n",
      "Epoch 2/100\n",
      "110/110 [==============================] - 0s 4ms/step - loss: 0.0425\n",
      "Epoch 3/100\n",
      "110/110 [==============================] - 0s 3ms/step - loss: 0.0420\n",
      "Epoch 4/100\n",
      "110/110 [==============================] - 0s 3ms/step - loss: 0.0414\n",
      "Epoch 5/100\n",
      "110/110 [==============================] - 0s 3ms/step - loss: 0.0408\n",
      "Epoch 6/100\n",
      "110/110 [==============================] - 0s 3ms/step - loss: 0.0403\n",
      "Epoch 7/100\n",
      "110/110 [==============================] - 0s 3ms/step - loss: 0.0397\n",
      "Epoch 8/100\n",
      "110/110 [==============================] - 0s 3ms/step - loss: 0.0391\n",
      "Epoch 9/100\n",
      "110/110 [==============================] - 0s 3ms/step - loss: 0.0385\n",
      "Epoch 10/100\n",
      "110/110 [==============================] - 0s 3ms/step - loss: 0.0380\n",
      "Epoch 11/100\n",
      "110/110 [==============================] - 0s 3ms/step - loss: 0.0373\n",
      "Epoch 12/100\n",
      "110/110 [==============================] - 0s 3ms/step - loss: 0.0367\n",
      "Epoch 13/100\n",
      "110/110 [==============================] - 0s 3ms/step - loss: 0.0361\n",
      "Epoch 14/100\n",
      "110/110 [==============================] - 0s 3ms/step - loss: 0.0354\n",
      "Epoch 15/100\n",
      "110/110 [==============================] - 0s 3ms/step - loss: 0.0348\n",
      "Epoch 16/100\n",
      "110/110 [==============================] - 0s 3ms/step - loss: 0.0341\n",
      "Epoch 17/100\n",
      "110/110 [==============================] - 0s 3ms/step - loss: 0.0334\n",
      "Epoch 18/100\n",
      "110/110 [==============================] - 0s 3ms/step - loss: 0.0327\n",
      "Epoch 19/100\n",
      "110/110 [==============================] - 0s 3ms/step - loss: 0.0319\n",
      "Epoch 20/100\n",
      "110/110 [==============================] - 0s 3ms/step - loss: 0.0311\n",
      "Epoch 21/100\n",
      "110/110 [==============================] - 0s 3ms/step - loss: 0.0303\n",
      "Epoch 22/100\n",
      "110/110 [==============================] - 0s 3ms/step - loss: 0.0295\n",
      "Epoch 23/100\n",
      "110/110 [==============================] - 0s 3ms/step - loss: 0.0287\n",
      "Epoch 24/100\n",
      "110/110 [==============================] - 0s 4ms/step - loss: 0.0279\n",
      "Epoch 25/100\n",
      "110/110 [==============================] - 0s 4ms/step - loss: 0.0270\n",
      "Epoch 26/100\n",
      "110/110 [==============================] - 0s 4ms/step - loss: 0.0262\n",
      "Epoch 27/100\n",
      "110/110 [==============================] - 1s 5ms/step - loss: 0.0253\n",
      "Epoch 28/100\n",
      "110/110 [==============================] - 0s 4ms/step - loss: 0.0244\n",
      "Epoch 29/100\n",
      "110/110 [==============================] - 0s 4ms/step - loss: 0.0235\n",
      "Epoch 30/100\n",
      "110/110 [==============================] - 0s 4ms/step - loss: 0.0226\n",
      "Epoch 31/100\n",
      "110/110 [==============================] - 0s 3ms/step - loss: 0.0217\n",
      "Epoch 32/100\n",
      "110/110 [==============================] - 0s 3ms/step - loss: 0.0208\n",
      "Epoch 33/100\n",
      "110/110 [==============================] - 0s 3ms/step - loss: 0.0199\n",
      "Epoch 34/100\n",
      "110/110 [==============================] - 0s 3ms/step - loss: 0.0190\n",
      "Epoch 35/100\n",
      "110/110 [==============================] - 0s 3ms/step - loss: 0.0182\n",
      "Epoch 36/100\n",
      "110/110 [==============================] - 1s 5ms/step - loss: 0.0173\n",
      "Epoch 37/100\n",
      "110/110 [==============================] - 0s 4ms/step - loss: 0.0164\n",
      "Epoch 38/100\n",
      "110/110 [==============================] - 0s 3ms/step - loss: 0.0156\n",
      "Epoch 39/100\n",
      "110/110 [==============================] - 0s 4ms/step - loss: 0.0148\n",
      "Epoch 40/100\n",
      "110/110 [==============================] - 0s 3ms/step - loss: 0.0140\n",
      "Epoch 41/100\n",
      "110/110 [==============================] - 0s 4ms/step - loss: 0.0132\n",
      "Epoch 42/100\n",
      "110/110 [==============================] - 0s 4ms/step - loss: 0.0125\n",
      "Epoch 43/100\n",
      "110/110 [==============================] - 0s 4ms/step - loss: 0.0118\n",
      "Epoch 44/100\n",
      "110/110 [==============================] - 0s 4ms/step - loss: 0.0111\n",
      "Epoch 45/100\n",
      "110/110 [==============================] - 0s 4ms/step - loss: 0.0105\n",
      "Epoch 46/100\n",
      "110/110 [==============================] - 0s 4ms/step - loss: 0.0098\n",
      "Epoch 47/100\n",
      "110/110 [==============================] - 0s 4ms/step - loss: 0.0092\n",
      "Epoch 48/100\n",
      "110/110 [==============================] - 0s 4ms/step - loss: 0.0087\n",
      "Epoch 49/100\n",
      "110/110 [==============================] - 0s 4ms/step - loss: 0.0081\n",
      "Epoch 50/100\n",
      "110/110 [==============================] - 0s 4ms/step - loss: 0.0076\n",
      "Epoch 51/100\n",
      "110/110 [==============================] - 0s 4ms/step - loss: 0.0071\n",
      "Epoch 52/100\n",
      "110/110 [==============================] - 0s 4ms/step - loss: 0.0067\n",
      "Epoch 53/100\n",
      "110/110 [==============================] - 0s 4ms/step - loss: 0.0063\n",
      "Epoch 54/100\n",
      "110/110 [==============================] - 0s 4ms/step - loss: 0.0059\n",
      "Epoch 55/100\n",
      "110/110 [==============================] - 0s 4ms/step - loss: 0.0055\n",
      "Epoch 56/100\n",
      "110/110 [==============================] - 0s 4ms/step - loss: 0.0051\n",
      "Epoch 57/100\n",
      "110/110 [==============================] - 0s 4ms/step - loss: 0.0048\n",
      "Epoch 58/100\n",
      "110/110 [==============================] - 0s 4ms/step - loss: 0.0045\n",
      "Epoch 59/100\n",
      "110/110 [==============================] - 0s 4ms/step - loss: 0.0042\n",
      "Epoch 60/100\n",
      "110/110 [==============================] - 0s 4ms/step - loss: 0.0039\n",
      "Epoch 61/100\n",
      "110/110 [==============================] - 0s 4ms/step - loss: 0.0037\n",
      "Epoch 62/100\n",
      "110/110 [==============================] - 0s 4ms/step - loss: 0.0034\n",
      "Epoch 63/100\n",
      "110/110 [==============================] - 1s 5ms/step - loss: 0.0032\n",
      "Epoch 64/100\n",
      "110/110 [==============================] - 0s 4ms/step - loss: 0.0030\n",
      "Epoch 65/100\n",
      "110/110 [==============================] - 0s 4ms/step - loss: 0.0028\n",
      "Epoch 66/100\n",
      "110/110 [==============================] - 0s 4ms/step - loss: 0.0026\n",
      "Epoch 67/100\n",
      "110/110 [==============================] - 0s 3ms/step - loss: 0.0025\n",
      "Epoch 68/100\n",
      "110/110 [==============================] - 0s 3ms/step - loss: 0.0023\n",
      "Epoch 69/100\n",
      "110/110 [==============================] - 0s 3ms/step - loss: 0.0022\n",
      "Epoch 70/100\n",
      "110/110 [==============================] - 0s 3ms/step - loss: 0.0021\n",
      "Epoch 71/100\n",
      "110/110 [==============================] - 0s 3ms/step - loss: 0.0019\n",
      "Epoch 72/100\n",
      "110/110 [==============================] - 0s 3ms/step - loss: 0.0018\n",
      "Epoch 73/100\n",
      "110/110 [==============================] - 0s 3ms/step - loss: 0.0017\n",
      "Epoch 74/100\n",
      "110/110 [==============================] - 0s 4ms/step - loss: 0.0016\n",
      "Epoch 75/100\n",
      "110/110 [==============================] - 0s 4ms/step - loss: 0.0015\n",
      "Epoch 76/100\n",
      "110/110 [==============================] - 0s 3ms/step - loss: 0.0014\n",
      "Epoch 77/100\n",
      "110/110 [==============================] - 0s 3ms/step - loss: 0.0014\n",
      "Epoch 78/100\n",
      "110/110 [==============================] - 0s 3ms/step - loss: 0.0013\n",
      "Epoch 79/100\n",
      "110/110 [==============================] - 0s 3ms/step - loss: 0.0012\n",
      "Epoch 80/100\n",
      "110/110 [==============================] - 0s 3ms/step - loss: 0.0012\n",
      "Epoch 81/100\n",
      "110/110 [==============================] - 0s 3ms/step - loss: 0.0011\n",
      "Epoch 82/100\n",
      "110/110 [==============================] - 0s 3ms/step - loss: 0.0011\n",
      "Epoch 83/100\n",
      "110/110 [==============================] - 0s 3ms/step - loss: 0.0010\n",
      "Epoch 84/100\n",
      "110/110 [==============================] - 0s 3ms/step - loss: 9.7095e-04\n",
      "Epoch 85/100\n",
      "110/110 [==============================] - 0s 3ms/step - loss: 9.2917e-04\n",
      "Epoch 86/100\n",
      "110/110 [==============================] - 0s 3ms/step - loss: 8.9081e-04\n",
      "Epoch 87/100\n",
      "110/110 [==============================] - 0s 3ms/step - loss: 8.5447e-04\n",
      "Epoch 88/100\n",
      "110/110 [==============================] - 0s 3ms/step - loss: 8.2201e-04\n",
      "Epoch 89/100\n",
      "110/110 [==============================] - 0s 3ms/step - loss: 7.9120e-04\n",
      "Epoch 90/100\n",
      "110/110 [==============================] - 0s 4ms/step - loss: 7.6277e-04\n",
      "Epoch 91/100\n",
      "110/110 [==============================] - 0s 4ms/step - loss: 7.3631e-04\n",
      "Epoch 92/100\n",
      "110/110 [==============================] - 0s 3ms/step - loss: 7.1202e-04\n",
      "Epoch 93/100\n",
      "110/110 [==============================] - 0s 3ms/step - loss: 6.8941e-04\n",
      "Epoch 94/100\n",
      "110/110 [==============================] - 0s 3ms/step - loss: 6.6879e-04\n",
      "Epoch 95/100\n",
      "110/110 [==============================] - 0s 3ms/step - loss: 6.4926e-04\n",
      "Epoch 96/100\n",
      "110/110 [==============================] - 0s 3ms/step - loss: 6.3145e-04\n",
      "Epoch 97/100\n",
      "110/110 [==============================] - 0s 3ms/step - loss: 6.1492e-04\n",
      "Epoch 98/100\n",
      "110/110 [==============================] - 0s 3ms/step - loss: 5.9927e-04\n",
      "Epoch 99/100\n"
     ]
    },
    {
     "name": "stdout",
     "output_type": "stream",
     "text": [
      "110/110 [==============================] - 0s 3ms/step - loss: 5.8506e-04\n",
      "Epoch 100/100\n",
      "110/110 [==============================] - 0s 3ms/step - loss: 5.7194e-04\n",
      "\n",
      "Model evaluation:\n",
      "47/47 [==============================] - 0s 2ms/step - loss: 5.3619e-04\n",
      "\n",
      "Some predictions:\n",
      "0.1 + 0.2 = 0.29935577511787415\n",
      "0.2 + 0.2 = 0.39603757858276367\n"
     ]
    }
   ],
   "source": [
    "import numpy as np\n",
    "import random\n",
    "import tensorflow as tf\n",
    "from sklearn.model_selection import train_test_split\n",
    "# array([[0.1, 0.2], [0.2, 0.2]])\n",
    "# array([[0.3], [0.4]])\n",
    "\n",
    "def generate_dataset(num_samples, test_size):\n",
    "    x = np.array([[random.random()/2 for _ in range(2)] for _ in range(num_samples)])\n",
    "    y = np.array([[i[0] + i[1]] for i in x])\n",
    "    x_train, x_test, y_train, y_test = train_test_split(x, y, test_size = test_size)\n",
    "    return x_train, x_test, y_train, y_test\n",
    "\n",
    "if __name__ == \"__main__\":\n",
    "    x_train, x_test, y_train, y_test = generate_dataset(5000, 0.3)\n",
    "#     print(\"x_test: \\n {}\".format(x_test))\n",
    "#     print(\"y_test: \\n {}\".format(y_test))\n",
    "\n",
    "    # build model: 2 -> 5 ->1\n",
    "    model = tf.keras.Sequential([\n",
    "        tf.keras.layers.Dense(5, input_dim = 2, activation = \"sigmoid\"),\n",
    "        tf.keras.layers.Dense(1, activation = \"sigmoid\")\n",
    "    ])\n",
    "    \n",
    "    # compile model\n",
    "    optimizer = tf.keras.optimizers.SGD(learning_rate = 0.1)\n",
    "    model.compile(optimizer = optimizer, loss = \"MSE\")\n",
    "    \n",
    "    # train model\n",
    "    model.fit(x_train, y_train, epochs = 100)\n",
    "    \n",
    "    # evaluate model\n",
    "    print(\"\\nModel evaluation:\")\n",
    "    model.evaluate(x_test, y_test, verbose = 1)\n",
    "    \n",
    "    # make predictions\n",
    "    data = np.array([[0.1, 0.2], [0.2, 0.2]])\n",
    "    predictions = model.predict(data)\n",
    "    \n",
    "    print(\"\\nSome predictions:\")\n",
    "    for d, p in zip(data, predictions):\n",
    "        print(\"{} + {} = {}\".format(d[0], d[1], p[0]))"
   ]
  },
  {
   "cell_type": "code",
   "execution_count": null,
   "id": "0f12d025",
   "metadata": {},
   "outputs": [],
   "source": []
  },
  {
   "cell_type": "code",
   "execution_count": null,
   "id": "1960acfd",
   "metadata": {},
   "outputs": [],
   "source": []
  },
  {
   "cell_type": "code",
   "execution_count": null,
   "id": "42b34f1b",
   "metadata": {},
   "outputs": [],
   "source": []
  }
 ],
 "metadata": {
  "kernelspec": {
   "display_name": "Python 3 (ipykernel)",
   "language": "python",
   "name": "python3"
  },
  "language_info": {
   "codemirror_mode": {
    "name": "ipython",
    "version": 3
   },
   "file_extension": ".py",
   "mimetype": "text/x-python",
   "name": "python",
   "nbconvert_exporter": "python",
   "pygments_lexer": "ipython3",
   "version": "3.9.20"
  }
 },
 "nbformat": 4,
 "nbformat_minor": 5
}
