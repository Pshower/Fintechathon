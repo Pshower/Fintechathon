{
 "cells": [
  {
   "cell_type": "code",
   "execution_count": 1,
   "id": "2735e70e",
   "metadata": {},
   "outputs": [],
   "source": [
    "import json\n",
    "import numpy as np\n",
    "from sklearn.model_selection import train_test_split\n",
    "import tensorflow.keras as keras\n",
    "\n",
    "DATASET_PATH = \"data.json\"\n",
    "# DATASET_PATH = \"data_full.json\"\n",
    "\n",
    "def load_data(dataset_path):\n",
    "    with open(dataset_path, \"r\") as fp:\n",
    "        data = json.load(fp)\n",
    "        \n",
    "    # convert numpy arrays into numpy arrays\n",
    "    inputs = np.array(data[\"mfcc\"])\n",
    "    targets = np.array(data[\"labels\"])\n",
    "    \n",
    "    return inputs, targets\n"
   ]
  },
  {
   "cell_type": "code",
   "execution_count": 2,
   "id": "f22c6f6e",
   "metadata": {
    "scrolled": true
   },
   "outputs": [
    {
     "name": "stderr",
     "output_type": "stream",
     "text": [
      "2024-11-09 22:12:54.782379: I tensorflow/stream_executor/cuda/cuda_gpu_executor.cc:922] could not open file to read NUMA node: /sys/bus/pci/devices/0000:01:00.0/numa_node\n",
      "Your kernel may have been built without NUMA support.\n",
      "2024-11-09 22:12:54.794464: I tensorflow/stream_executor/cuda/cuda_gpu_executor.cc:922] could not open file to read NUMA node: /sys/bus/pci/devices/0000:01:00.0/numa_node\n",
      "Your kernel may have been built without NUMA support.\n",
      "2024-11-09 22:12:54.794946: I tensorflow/stream_executor/cuda/cuda_gpu_executor.cc:922] could not open file to read NUMA node: /sys/bus/pci/devices/0000:01:00.0/numa_node\n",
      "Your kernel may have been built without NUMA support.\n"
     ]
    },
    {
     "name": "stdout",
     "output_type": "stream",
     "text": [
      "Model: \"sequential\"\n",
      "_________________________________________________________________\n",
      " Layer (type)                Output Shape              Param #   \n",
      "=================================================================\n",
      " flatten (Flatten)           (None, 13)                0         \n",
      "                                                                 \n",
      " dense (Dense)               (None, 512)               7168      \n",
      "                                                                 \n",
      " dense_1 (Dense)             (None, 256)               131328    \n",
      "                                                                 \n",
      " dense_2 (Dense)             (None, 64)                16448     \n",
      "                                                                 \n",
      " dense_3 (Dense)             (None, 10)                650       \n",
      "                                                                 \n",
      "=================================================================\n",
      "Total params: 155,594\n",
      "Trainable params: 155,594\n",
      "Non-trainable params: 0\n",
      "_________________________________________________________________\n"
     ]
    },
    {
     "name": "stderr",
     "output_type": "stream",
     "text": [
      "2024-11-09 22:12:54.796210: I tensorflow/core/platform/cpu_feature_guard.cc:151] This TensorFlow binary is optimized with oneAPI Deep Neural Network Library (oneDNN) to use the following CPU instructions in performance-critical operations:  AVX2 FMA\n",
      "To enable them in other operations, rebuild TensorFlow with the appropriate compiler flags.\n",
      "2024-11-09 22:12:54.840193: I tensorflow/stream_executor/cuda/cuda_gpu_executor.cc:922] could not open file to read NUMA node: /sys/bus/pci/devices/0000:01:00.0/numa_node\n",
      "Your kernel may have been built without NUMA support.\n",
      "2024-11-09 22:12:54.841322: I tensorflow/stream_executor/cuda/cuda_gpu_executor.cc:922] could not open file to read NUMA node: /sys/bus/pci/devices/0000:01:00.0/numa_node\n",
      "Your kernel may have been built without NUMA support.\n",
      "2024-11-09 22:12:54.842105: I tensorflow/stream_executor/cuda/cuda_gpu_executor.cc:922] could not open file to read NUMA node: /sys/bus/pci/devices/0000:01:00.0/numa_node\n",
      "Your kernel may have been built without NUMA support.\n",
      "2024-11-09 22:12:55.612123: I tensorflow/stream_executor/cuda/cuda_gpu_executor.cc:922] could not open file to read NUMA node: /sys/bus/pci/devices/0000:01:00.0/numa_node\n",
      "Your kernel may have been built without NUMA support.\n",
      "2024-11-09 22:12:55.612808: I tensorflow/stream_executor/cuda/cuda_gpu_executor.cc:922] could not open file to read NUMA node: /sys/bus/pci/devices/0000:01:00.0/numa_node\n",
      "Your kernel may have been built without NUMA support.\n",
      "2024-11-09 22:12:55.612818: I tensorflow/core/common_runtime/gpu/gpu_device.cc:1609] Could not identify NUMA node of platform GPU id 0, defaulting to 0.  Your kernel may not have been built with NUMA support.\n",
      "2024-11-09 22:12:55.613344: I tensorflow/stream_executor/cuda/cuda_gpu_executor.cc:922] could not open file to read NUMA node: /sys/bus/pci/devices/0000:01:00.0/numa_node\n",
      "Your kernel may have been built without NUMA support.\n",
      "2024-11-09 22:12:55.613384: I tensorflow/core/common_runtime/gpu/gpu_device.cc:1525] Created device /job:localhost/replica:0/task:0/device:GPU:0 with 1613 MB memory:  -> device: 0, name: NVIDIA GeForce RTX 3050 Laptop GPU, pci bus id: 0000:01:00.0, compute capability: 8.6\n"
     ]
    },
    {
     "name": "stdout",
     "output_type": "stream",
     "text": [
      "Epoch 1/100\n",
      "3/3 [==============================] - 1s 59ms/step - loss: 12.8576 - accuracy: 0.1571 - val_loss: 6.6855 - val_accuracy: 0.1667\n",
      "Epoch 2/100\n",
      "3/3 [==============================] - 0s 15ms/step - loss: 7.2682 - accuracy: 0.1429 - val_loss: 5.4523 - val_accuracy: 0.1333\n",
      "Epoch 3/100\n",
      "1/3 [=========>....................] - ETA: 0s - loss: 6.4854 - accuracy: 0.0312"
     ]
    },
    {
     "name": "stderr",
     "output_type": "stream",
     "text": [
      "2024-11-09 22:12:57.052774: I tensorflow/stream_executor/cuda/cuda_blas.cc:1786] TensorFloat-32 will be used for the matrix multiplication. This will only be logged once.\n"
     ]
    },
    {
     "name": "stdout",
     "output_type": "stream",
     "text": [
      "3/3 [==============================] - 0s 14ms/step - loss: 5.9602 - accuracy: 0.0714 - val_loss: 4.1287 - val_accuracy: 0.2667\n",
      "Epoch 4/100\n",
      "3/3 [==============================] - 0s 14ms/step - loss: 4.4739 - accuracy: 0.1571 - val_loss: 2.7421 - val_accuracy: 0.3333\n",
      "Epoch 5/100\n",
      "3/3 [==============================] - 0s 14ms/step - loss: 2.9567 - accuracy: 0.2286 - val_loss: 1.8868 - val_accuracy: 0.5333\n",
      "Epoch 6/100\n",
      "3/3 [==============================] - 0s 13ms/step - loss: 2.0354 - accuracy: 0.3429 - val_loss: 2.3379 - val_accuracy: 0.3667\n",
      "Epoch 7/100\n",
      "3/3 [==============================] - 0s 13ms/step - loss: 2.0916 - accuracy: 0.3143 - val_loss: 2.4312 - val_accuracy: 0.3333\n",
      "Epoch 8/100\n",
      "3/3 [==============================] - 0s 13ms/step - loss: 1.9860 - accuracy: 0.4000 - val_loss: 1.9967 - val_accuracy: 0.4000\n",
      "Epoch 9/100\n",
      "3/3 [==============================] - 0s 13ms/step - loss: 1.5885 - accuracy: 0.4571 - val_loss: 1.5622 - val_accuracy: 0.5000\n",
      "Epoch 10/100\n",
      "3/3 [==============================] - 0s 13ms/step - loss: 1.3840 - accuracy: 0.4714 - val_loss: 1.3085 - val_accuracy: 0.6000\n",
      "Epoch 11/100\n",
      "3/3 [==============================] - 0s 12ms/step - loss: 1.2726 - accuracy: 0.5286 - val_loss: 1.2291 - val_accuracy: 0.6000\n",
      "Epoch 12/100\n",
      "3/3 [==============================] - 0s 14ms/step - loss: 1.2221 - accuracy: 0.5571 - val_loss: 1.1839 - val_accuracy: 0.6000\n",
      "Epoch 13/100\n",
      "3/3 [==============================] - 0s 13ms/step - loss: 1.1338 - accuracy: 0.5286 - val_loss: 1.1829 - val_accuracy: 0.6000\n",
      "Epoch 14/100\n",
      "3/3 [==============================] - 0s 16ms/step - loss: 1.0286 - accuracy: 0.6714 - val_loss: 1.1313 - val_accuracy: 0.6333\n",
      "Epoch 15/100\n",
      "3/3 [==============================] - 0s 19ms/step - loss: 0.9869 - accuracy: 0.6714 - val_loss: 1.0548 - val_accuracy: 0.6667\n",
      "Epoch 16/100\n",
      "3/3 [==============================] - 0s 15ms/step - loss: 0.9210 - accuracy: 0.6714 - val_loss: 1.0281 - val_accuracy: 0.7000\n",
      "Epoch 17/100\n",
      "3/3 [==============================] - 0s 14ms/step - loss: 0.9191 - accuracy: 0.6571 - val_loss: 0.9346 - val_accuracy: 0.6333\n",
      "Epoch 18/100\n",
      "3/3 [==============================] - 0s 14ms/step - loss: 0.8549 - accuracy: 0.6714 - val_loss: 0.9459 - val_accuracy: 0.7000\n",
      "Epoch 19/100\n",
      "3/3 [==============================] - 0s 16ms/step - loss: 0.8251 - accuracy: 0.7571 - val_loss: 0.9083 - val_accuracy: 0.6333\n",
      "Epoch 20/100\n",
      "3/3 [==============================] - 0s 19ms/step - loss: 0.7834 - accuracy: 0.8143 - val_loss: 0.8135 - val_accuracy: 0.7000\n",
      "Epoch 21/100\n",
      "3/3 [==============================] - 0s 18ms/step - loss: 0.7085 - accuracy: 0.7857 - val_loss: 0.8679 - val_accuracy: 0.6333\n",
      "Epoch 22/100\n",
      "3/3 [==============================] - 0s 16ms/step - loss: 0.7675 - accuracy: 0.7000 - val_loss: 0.7899 - val_accuracy: 0.6667\n",
      "Epoch 23/100\n",
      "3/3 [==============================] - 0s 13ms/step - loss: 0.7203 - accuracy: 0.7571 - val_loss: 0.7351 - val_accuracy: 0.7000\n",
      "Epoch 24/100\n",
      "3/3 [==============================] - 0s 15ms/step - loss: 0.6590 - accuracy: 0.7571 - val_loss: 0.7417 - val_accuracy: 0.6333\n",
      "Epoch 25/100\n",
      "3/3 [==============================] - 0s 16ms/step - loss: 0.6248 - accuracy: 0.8571 - val_loss: 0.7873 - val_accuracy: 0.6333\n",
      "Epoch 26/100\n",
      "3/3 [==============================] - 0s 15ms/step - loss: 0.6474 - accuracy: 0.7571 - val_loss: 0.7058 - val_accuracy: 0.7000\n",
      "Epoch 27/100\n",
      "3/3 [==============================] - 0s 14ms/step - loss: 0.5676 - accuracy: 0.8143 - val_loss: 0.6117 - val_accuracy: 0.7667\n",
      "Epoch 28/100\n",
      "3/3 [==============================] - 0s 13ms/step - loss: 0.5598 - accuracy: 0.8286 - val_loss: 0.5939 - val_accuracy: 0.8000\n",
      "Epoch 29/100\n",
      "3/3 [==============================] - 0s 15ms/step - loss: 0.5773 - accuracy: 0.8000 - val_loss: 0.5409 - val_accuracy: 0.8000\n",
      "Epoch 30/100\n",
      "3/3 [==============================] - 0s 14ms/step - loss: 0.5205 - accuracy: 0.8714 - val_loss: 0.5613 - val_accuracy: 0.8333\n",
      "Epoch 31/100\n",
      "3/3 [==============================] - 0s 15ms/step - loss: 0.4787 - accuracy: 0.9143 - val_loss: 0.6896 - val_accuracy: 0.6333\n",
      "Epoch 32/100\n",
      "3/3 [==============================] - 0s 15ms/step - loss: 0.5336 - accuracy: 0.8429 - val_loss: 0.7163 - val_accuracy: 0.6333\n",
      "Epoch 33/100\n",
      "3/3 [==============================] - 0s 15ms/step - loss: 0.5056 - accuracy: 0.8857 - val_loss: 0.6120 - val_accuracy: 0.8333\n",
      "Epoch 34/100\n",
      "3/3 [==============================] - 0s 13ms/step - loss: 0.4565 - accuracy: 0.9143 - val_loss: 0.5009 - val_accuracy: 0.8667\n",
      "Epoch 35/100\n",
      "3/3 [==============================] - 0s 14ms/step - loss: 0.4536 - accuracy: 0.9000 - val_loss: 0.4907 - val_accuracy: 0.8333\n",
      "Epoch 36/100\n",
      "3/3 [==============================] - 0s 14ms/step - loss: 0.4403 - accuracy: 0.9286 - val_loss: 0.5135 - val_accuracy: 0.8333\n",
      "Epoch 37/100\n",
      "3/3 [==============================] - 0s 16ms/step - loss: 0.4262 - accuracy: 0.9286 - val_loss: 0.5822 - val_accuracy: 0.7333\n",
      "Epoch 38/100\n",
      "3/3 [==============================] - 0s 16ms/step - loss: 0.4548 - accuracy: 0.9000 - val_loss: 0.5460 - val_accuracy: 0.8333\n",
      "Epoch 39/100\n",
      "3/3 [==============================] - 0s 16ms/step - loss: 0.3886 - accuracy: 0.9571 - val_loss: 0.6648 - val_accuracy: 0.7667\n",
      "Epoch 40/100\n",
      "3/3 [==============================] - 0s 14ms/step - loss: 0.5105 - accuracy: 0.8571 - val_loss: 0.6083 - val_accuracy: 0.7667\n",
      "Epoch 41/100\n",
      "3/3 [==============================] - 0s 12ms/step - loss: 0.4260 - accuracy: 0.9143 - val_loss: 0.4911 - val_accuracy: 0.8333\n",
      "Epoch 42/100\n",
      "3/3 [==============================] - 0s 13ms/step - loss: 0.4378 - accuracy: 0.8286 - val_loss: 0.6488 - val_accuracy: 0.7000\n",
      "Epoch 43/100\n",
      "3/3 [==============================] - 0s 13ms/step - loss: 0.5315 - accuracy: 0.7857 - val_loss: 0.4599 - val_accuracy: 0.8333\n",
      "Epoch 44/100\n",
      "3/3 [==============================] - 0s 12ms/step - loss: 0.3721 - accuracy: 0.9429 - val_loss: 0.5272 - val_accuracy: 0.7667\n",
      "Epoch 45/100\n",
      "3/3 [==============================] - 0s 12ms/step - loss: 0.4113 - accuracy: 0.8571 - val_loss: 0.4398 - val_accuracy: 0.8333\n",
      "Epoch 46/100\n",
      "3/3 [==============================] - 0s 14ms/step - loss: 0.3613 - accuracy: 0.9286 - val_loss: 0.4802 - val_accuracy: 0.8000\n",
      "Epoch 47/100\n",
      "3/3 [==============================] - 0s 15ms/step - loss: 0.4155 - accuracy: 0.8286 - val_loss: 0.4362 - val_accuracy: 0.8667\n",
      "Epoch 48/100\n",
      "3/3 [==============================] - 0s 14ms/step - loss: 0.3455 - accuracy: 0.9286 - val_loss: 0.5571 - val_accuracy: 0.7000\n",
      "Epoch 49/100\n",
      "3/3 [==============================] - 0s 15ms/step - loss: 0.4011 - accuracy: 0.8857 - val_loss: 0.5775 - val_accuracy: 0.7333\n",
      "Epoch 50/100\n",
      "3/3 [==============================] - 0s 14ms/step - loss: 0.3863 - accuracy: 0.8857 - val_loss: 0.4439 - val_accuracy: 0.8333\n",
      "Epoch 51/100\n",
      "3/3 [==============================] - 0s 13ms/step - loss: 0.3290 - accuracy: 0.9429 - val_loss: 0.6040 - val_accuracy: 0.7000\n",
      "Epoch 52/100\n",
      "3/3 [==============================] - 0s 13ms/step - loss: 0.5487 - accuracy: 0.8143 - val_loss: 0.4912 - val_accuracy: 0.7667\n",
      "Epoch 53/100\n",
      "3/3 [==============================] - 0s 12ms/step - loss: 0.3962 - accuracy: 0.8429 - val_loss: 0.3973 - val_accuracy: 0.8667\n",
      "Epoch 54/100\n",
      "3/3 [==============================] - 0s 16ms/step - loss: 0.3363 - accuracy: 0.9143 - val_loss: 0.4705 - val_accuracy: 0.8000\n",
      "Epoch 55/100\n",
      "3/3 [==============================] - 0s 12ms/step - loss: 0.3505 - accuracy: 0.9000 - val_loss: 0.4478 - val_accuracy: 0.9000\n",
      "Epoch 56/100\n",
      "3/3 [==============================] - 0s 13ms/step - loss: 0.3204 - accuracy: 0.9000 - val_loss: 0.4155 - val_accuracy: 0.8333\n",
      "Epoch 57/100\n",
      "3/3 [==============================] - 0s 14ms/step - loss: 0.3028 - accuracy: 0.9571 - val_loss: 0.4237 - val_accuracy: 0.8333\n",
      "Epoch 58/100\n",
      "3/3 [==============================] - 0s 15ms/step - loss: 0.2958 - accuracy: 0.9571 - val_loss: 0.3866 - val_accuracy: 0.8333\n",
      "Epoch 59/100\n",
      "3/3 [==============================] - 0s 14ms/step - loss: 0.2861 - accuracy: 0.9571 - val_loss: 0.4074 - val_accuracy: 0.8667\n",
      "Epoch 60/100\n",
      "3/3 [==============================] - 0s 17ms/step - loss: 0.2955 - accuracy: 0.9429 - val_loss: 0.4319 - val_accuracy: 0.8333\n",
      "Epoch 61/100\n"
     ]
    },
    {
     "name": "stdout",
     "output_type": "stream",
     "text": [
      "3/3 [==============================] - 0s 14ms/step - loss: 0.2785 - accuracy: 0.9571 - val_loss: 0.4377 - val_accuracy: 0.8667\n",
      "Epoch 62/100\n",
      "3/3 [==============================] - 0s 14ms/step - loss: 0.2882 - accuracy: 0.9429 - val_loss: 0.4284 - val_accuracy: 0.9000\n",
      "Epoch 63/100\n",
      "3/3 [==============================] - 0s 15ms/step - loss: 0.2725 - accuracy: 0.9571 - val_loss: 0.3798 - val_accuracy: 0.8333\n",
      "Epoch 64/100\n",
      "3/3 [==============================] - 0s 14ms/step - loss: 0.2704 - accuracy: 0.9429 - val_loss: 0.3820 - val_accuracy: 0.8667\n",
      "Epoch 65/100\n",
      "3/3 [==============================] - 0s 12ms/step - loss: 0.2743 - accuracy: 0.9143 - val_loss: 0.3562 - val_accuracy: 0.8333\n",
      "Epoch 66/100\n",
      "3/3 [==============================] - 0s 15ms/step - loss: 0.2519 - accuracy: 0.9571 - val_loss: 0.3677 - val_accuracy: 0.8000\n",
      "Epoch 67/100\n",
      "3/3 [==============================] - 0s 17ms/step - loss: 0.2520 - accuracy: 0.9571 - val_loss: 0.3875 - val_accuracy: 0.8000\n",
      "Epoch 68/100\n",
      "3/3 [==============================] - 0s 15ms/step - loss: 0.2470 - accuracy: 0.9571 - val_loss: 0.3787 - val_accuracy: 0.8333\n",
      "Epoch 69/100\n",
      "3/3 [==============================] - 0s 14ms/step - loss: 0.2369 - accuracy: 0.9714 - val_loss: 0.3471 - val_accuracy: 0.8333\n",
      "Epoch 70/100\n",
      "3/3 [==============================] - 0s 14ms/step - loss: 0.2393 - accuracy: 0.9714 - val_loss: 0.3431 - val_accuracy: 0.8333\n",
      "Epoch 71/100\n",
      "3/3 [==============================] - 0s 14ms/step - loss: 0.2431 - accuracy: 0.9429 - val_loss: 0.3554 - val_accuracy: 0.8333\n",
      "Epoch 72/100\n",
      "3/3 [==============================] - 0s 14ms/step - loss: 0.2453 - accuracy: 0.9429 - val_loss: 0.3565 - val_accuracy: 0.8333\n",
      "Epoch 73/100\n",
      "3/3 [==============================] - 0s 14ms/step - loss: 0.2310 - accuracy: 0.9571 - val_loss: 0.3700 - val_accuracy: 0.8000\n",
      "Epoch 74/100\n",
      "3/3 [==============================] - 0s 13ms/step - loss: 0.2278 - accuracy: 0.9571 - val_loss: 0.3662 - val_accuracy: 0.8333\n",
      "Epoch 75/100\n",
      "3/3 [==============================] - 0s 16ms/step - loss: 0.2233 - accuracy: 0.9714 - val_loss: 0.3784 - val_accuracy: 0.8667\n",
      "Epoch 76/100\n",
      "3/3 [==============================] - 0s 14ms/step - loss: 0.2240 - accuracy: 0.9714 - val_loss: 0.3698 - val_accuracy: 0.8333\n",
      "Epoch 77/100\n",
      "3/3 [==============================] - 0s 13ms/step - loss: 0.2174 - accuracy: 0.9714 - val_loss: 0.3693 - val_accuracy: 0.8333\n",
      "Epoch 78/100\n",
      "3/3 [==============================] - 0s 12ms/step - loss: 0.2177 - accuracy: 0.9714 - val_loss: 0.3905 - val_accuracy: 0.8667\n",
      "Epoch 79/100\n",
      "3/3 [==============================] - 0s 16ms/step - loss: 0.2155 - accuracy: 0.9714 - val_loss: 0.3741 - val_accuracy: 0.8000\n",
      "Epoch 80/100\n",
      "3/3 [==============================] - 0s 17ms/step - loss: 0.2159 - accuracy: 0.9571 - val_loss: 0.3747 - val_accuracy: 0.9000\n",
      "Epoch 81/100\n",
      "3/3 [==============================] - 0s 16ms/step - loss: 0.2308 - accuracy: 0.9571 - val_loss: 0.3391 - val_accuracy: 0.8667\n",
      "Epoch 82/100\n",
      "3/3 [==============================] - 0s 15ms/step - loss: 0.2197 - accuracy: 0.9714 - val_loss: 0.3356 - val_accuracy: 0.8333\n",
      "Epoch 83/100\n",
      "3/3 [==============================] - 0s 14ms/step - loss: 0.2044 - accuracy: 0.9714 - val_loss: 0.3678 - val_accuracy: 0.8333\n",
      "Epoch 84/100\n",
      "3/3 [==============================] - 0s 14ms/step - loss: 0.2140 - accuracy: 0.9571 - val_loss: 0.3711 - val_accuracy: 0.8667\n",
      "Epoch 85/100\n",
      "3/3 [==============================] - 0s 16ms/step - loss: 0.2002 - accuracy: 0.9714 - val_loss: 0.4007 - val_accuracy: 0.8000\n",
      "Epoch 86/100\n",
      "3/3 [==============================] - 0s 15ms/step - loss: 0.2278 - accuracy: 0.9286 - val_loss: 0.3912 - val_accuracy: 0.8667\n",
      "Epoch 87/100\n",
      "3/3 [==============================] - 0s 15ms/step - loss: 0.2063 - accuracy: 0.9571 - val_loss: 0.3754 - val_accuracy: 0.8667\n",
      "Epoch 88/100\n",
      "3/3 [==============================] - 0s 14ms/step - loss: 0.2244 - accuracy: 0.9429 - val_loss: 0.3469 - val_accuracy: 0.8333\n",
      "Epoch 89/100\n",
      "3/3 [==============================] - 0s 14ms/step - loss: 0.2096 - accuracy: 0.9429 - val_loss: 0.3284 - val_accuracy: 0.8333\n",
      "Epoch 90/100\n",
      "3/3 [==============================] - 0s 13ms/step - loss: 0.1965 - accuracy: 0.9571 - val_loss: 0.3288 - val_accuracy: 0.8333\n",
      "Epoch 91/100\n",
      "3/3 [==============================] - 0s 17ms/step - loss: 0.1837 - accuracy: 0.9714 - val_loss: 0.3413 - val_accuracy: 0.8333\n",
      "Epoch 92/100\n",
      "3/3 [==============================] - 0s 16ms/step - loss: 0.1882 - accuracy: 0.9571 - val_loss: 0.3539 - val_accuracy: 0.8667\n",
      "Epoch 93/100\n",
      "3/3 [==============================] - 0s 15ms/step - loss: 0.1896 - accuracy: 0.9714 - val_loss: 0.3698 - val_accuracy: 0.8667\n",
      "Epoch 94/100\n",
      "3/3 [==============================] - 0s 13ms/step - loss: 0.1920 - accuracy: 0.9571 - val_loss: 0.3758 - val_accuracy: 0.8000\n",
      "Epoch 95/100\n",
      "3/3 [==============================] - 0s 15ms/step - loss: 0.1869 - accuracy: 0.9571 - val_loss: 0.3638 - val_accuracy: 0.8333\n",
      "Epoch 96/100\n",
      "3/3 [==============================] - 0s 15ms/step - loss: 0.1812 - accuracy: 0.9714 - val_loss: 0.3398 - val_accuracy: 0.8333\n",
      "Epoch 97/100\n",
      "3/3 [==============================] - 0s 15ms/step - loss: 0.1867 - accuracy: 0.9714 - val_loss: 0.3504 - val_accuracy: 0.8333\n",
      "Epoch 98/100\n",
      "3/3 [==============================] - 0s 12ms/step - loss: 0.1853 - accuracy: 0.9571 - val_loss: 0.3632 - val_accuracy: 0.8667\n",
      "Epoch 99/100\n",
      "3/3 [==============================] - 0s 12ms/step - loss: 0.1823 - accuracy: 0.9571 - val_loss: 0.3617 - val_accuracy: 0.8333\n",
      "Epoch 100/100\n",
      "3/3 [==============================] - 0s 13ms/step - loss: 0.1769 - accuracy: 0.9429 - val_loss: 0.3540 - val_accuracy: 0.8333\n"
     ]
    }
   ],
   "source": [
    "if __name__ == \"__main__\":\n",
    "        \n",
    "    # load data\n",
    "    inputs, targets = load_data(DATASET_PATH)\n",
    "    \n",
    "    # split the data into train and test sets\n",
    "    inputs_train, inputs_test, targets_train, targets_test = train_test_split(inputs, targets, test_size = 0.3)\n",
    "    \n",
    "    # build the network architecture\n",
    "    model = keras.Sequential([\n",
    "        # input layer\n",
    "        keras.layers.Flatten(input_shape = (inputs.shape[1], inputs.shape[2])),\n",
    "        \n",
    "        # 1st hidden layer\n",
    "        keras.layers.Dense(512, activation = \"relu\"),\n",
    "        \n",
    "        # 2nd hidden layer\n",
    "        keras.layers.Dense(256, activation = \"relu\"),\n",
    "        \n",
    "        # 3rd hidden layer\n",
    "        keras.layers.Dense(64, activation = \"relu\"),\n",
    "        \n",
    "        # output layer\n",
    "        keras.layers.Dense(10, activation = \"softmax\")\n",
    "    ])\n",
    "    \n",
    "    # compile network\n",
    "    optimizer = keras.optimizers.Adam(learning_rate = 0.0001)\n",
    "    model.compile(optimizer = optimizer, loss = \"sparse_categorical_crossentropy\", metrics = [\"accuracy\"])\n",
    "    model.summary()\n",
    "    \n",
    "    # train network\n",
    "    model.fit(inputs_train, targets_train, validation_data = (inputs_test, targets_test), epochs = 100, batch_size = 32)\n",
    "    "
   ]
  },
  {
   "cell_type": "code",
   "execution_count": null,
   "id": "ffe55a0b",
   "metadata": {},
   "outputs": [],
   "source": []
  },
  {
   "cell_type": "code",
   "execution_count": null,
   "id": "164b9098",
   "metadata": {},
   "outputs": [],
   "source": []
  },
  {
   "cell_type": "code",
   "execution_count": 3,
   "id": "49c7e83e",
   "metadata": {},
   "outputs": [
    {
     "data": {
      "text/plain": [
       "<tf.Tensor: shape=(1, 10), dtype=float32, numpy=array([[nan, nan, nan, nan, nan, nan, nan, nan, nan, nan]], dtype=float32)>"
      ]
     },
     "execution_count": 3,
     "metadata": {},
     "output_type": "execute_result"
    }
   ],
   "source": [
    "model((inputs[0].reshape(1,1,13)))"
   ]
  },
  {
   "cell_type": "code",
   "execution_count": 4,
   "id": "b610daa6",
   "metadata": {},
   "outputs": [
    {
     "data": {
      "text/plain": [
       "array([[[-247.5295105 ,   79.69992065,   15.64183998,    7.84844398,\n",
       "           11.53348732,   -0.75775474,    4.80943012,    1.19679379,\n",
       "           -7.02707481,    5.63072252,   -5.95659924,   -3.6491735 ,\n",
       "           -7.93608856]]])"
      ]
     },
     "execution_count": 4,
     "metadata": {},
     "output_type": "execute_result"
    }
   ],
   "source": [
    "inputs[0].reshape(1,1,13)"
   ]
  },
  {
   "cell_type": "code",
   "execution_count": 19,
   "id": "724c6967",
   "metadata": {},
   "outputs": [],
   "source": [
    "DATASET_PATH = \"data.json\"\n",
    "\n",
    "# load data\n",
    "inputs, targets = load_data(DATASET_PATH)\n",
    "\n",
    "# split the data into train and test sets\n",
    "inputs_train, inputs_test, targets_train, targets_test = train_test_split(inputs, targets, test_size = 0.3)\n",
    "\n",
    "# build the network architecture\n",
    "model = keras.Sequential([\n",
    "    # input layer\n",
    "    keras.layers.Flatten(input_shape = (inputs.shape[1], inputs.shape[2])),\n",
    "\n",
    "    # 1st hidden layer\n",
    "    keras.layers.Dense(512, activation = \"relu\"),\n",
    "\n",
    "    # 2nd hidden layer\n",
    "    keras.layers.Dense(256, activation = \"relu\"),\n",
    "\n",
    "    # 3rd hidden layer\n",
    "    keras.layers.Dense(64, activation = \"relu\"),\n",
    "\n",
    "    # output layer\n",
    "    keras.layers.Dense(10, activation = \"softmax\")\n",
    "])"
   ]
  },
  {
   "cell_type": "code",
   "execution_count": 23,
   "id": "77ceb7e7",
   "metadata": {},
   "outputs": [
    {
     "data": {
      "text/plain": [
       "array([1, 4, 1, 0, 2, 9, 6, 7, 0, 2, 9, 6, 9, 6, 5, 2, 2, 3, 3, 2, 8, 6,\n",
       "       8, 3, 7, 5, 0, 9, 1, 9])"
      ]
     },
     "execution_count": 23,
     "metadata": {},
     "output_type": "execute_result"
    }
   ],
   "source": [
    "targets_test"
   ]
  },
  {
   "cell_type": "code",
   "execution_count": 20,
   "id": "eb4334d0",
   "metadata": {},
   "outputs": [
    {
     "data": {
      "text/plain": [
       "array([[[-2.47529510e+02,  7.96999207e+01,  1.56418400e+01, ...,\n",
       "         -5.95659924e+00, -3.64917350e+00, -7.93608856e+00]],\n",
       "\n",
       "       [[-2.31200180e+02,  5.82810669e+01,  1.79094391e+01, ...,\n",
       "          5.95300007e+00,  7.44017458e+00,  5.23655033e+00]],\n",
       "\n",
       "       [[-2.45812866e+02,  6.53213654e+01,  7.87117290e+00, ...,\n",
       "         -1.10102761e+00,  1.67966020e+00,  1.26937714e+01]],\n",
       "\n",
       "       ...,\n",
       "\n",
       "       [[-1.39372025e+02,  1.75213318e+01, -1.65865326e+01, ...,\n",
       "          1.65087547e+01,  7.03052139e+00, -4.86146879e+00]],\n",
       "\n",
       "       [[-1.62188293e+02,  1.14621239e+01, -1.89034386e+01, ...,\n",
       "          1.55379906e+01, -1.87734652e+00, -1.75499454e-01]],\n",
       "\n",
       "       [[-1.12497108e+02,  5.74599409e+00, -2.65631027e+01, ...,\n",
       "          1.81796570e+01,  6.24819899e+00,  2.66163301e+00]]])"
      ]
     },
     "execution_count": 20,
     "metadata": {},
     "output_type": "execute_result"
    }
   ],
   "source": [
    "inputs"
   ]
  },
  {
   "cell_type": "code",
   "execution_count": 22,
   "id": "9e683f36",
   "metadata": {},
   "outputs": [
    {
     "data": {
      "text/plain": [
       "<tf.Tensor: shape=(1, 10), dtype=float32, numpy=\n",
       "array([[2.4822620e-08, 1.3891843e-11, 8.8116203e-06, 9.1402608e-11,\n",
       "        2.9917704e-08, 1.1092133e-12, 9.9997938e-01, 1.2898852e-15,\n",
       "        1.0954515e-10, 1.1804933e-05]], dtype=float32)>"
      ]
     },
     "execution_count": 22,
     "metadata": {},
     "output_type": "execute_result"
    }
   ],
   "source": [
    "model((inputs[0].reshape(1,1,13)))"
   ]
  },
  {
   "cell_type": "code",
   "execution_count": 21,
   "id": "a8467530",
   "metadata": {},
   "outputs": [
    {
     "data": {
      "text/plain": [
       "(100, 1, 13)"
      ]
     },
     "execution_count": 21,
     "metadata": {},
     "output_type": "execute_result"
    }
   ],
   "source": [
    "inputs.shape"
   ]
  },
  {
   "cell_type": "code",
   "execution_count": 10,
   "id": "2f433118",
   "metadata": {},
   "outputs": [
    {
     "data": {
      "text/plain": [
       "0"
      ]
     },
     "execution_count": 10,
     "metadata": {},
     "output_type": "execute_result"
    }
   ],
   "source": [
    "targets[0]"
   ]
  },
  {
   "cell_type": "code",
   "execution_count": 4,
   "id": "a5ca1130",
   "metadata": {},
   "outputs": [
    {
     "data": {
      "text/plain": [
       "array([ 0,  0,  0, ..., 10, 10, 10])"
      ]
     },
     "execution_count": 4,
     "metadata": {},
     "output_type": "execute_result"
    }
   ],
   "source": [
    "targets"
   ]
  }
 ],
 "metadata": {
  "kernelspec": {
   "display_name": "Python 3 (ipykernel)",
   "language": "python",
   "name": "python3"
  },
  "language_info": {
   "codemirror_mode": {
    "name": "ipython",
    "version": 3
   },
   "file_extension": ".py",
   "mimetype": "text/x-python",
   "name": "python",
   "nbconvert_exporter": "python",
   "pygments_lexer": "ipython3",
   "version": "3.9.20"
  }
 },
 "nbformat": 4,
 "nbformat_minor": 5
}
